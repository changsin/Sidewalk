{
  "nbformat": 4,
  "nbformat_minor": 0,
  "metadata": {
    "colab": {
      "name": "train_sw15_batch10.ipynb",
      "provenance": [],
      "toc_visible": true,
      "machine_shape": "hm",
      "authorship_tag": "ABX9TyM7rcUSuVWEzo/Dwy6+JXc/",
      "include_colab_link": true
    },
    "kernelspec": {
      "name": "python3",
      "display_name": "Python 3"
    },
    "language_info": {
      "name": "python"
    },
    "accelerator": "GPU"
  },
  "cells": [
    {
      "cell_type": "markdown",
      "metadata": {
        "id": "view-in-github",
        "colab_type": "text"
      },
      "source": [
        "<a href=\"https://colab.research.google.com/github/changsin/Sidewalk/blob/main/notebooks/train_sw15_oversample_res.ipynb\" target=\"_parent\"><img src=\"https://colab.research.google.com/assets/colab-badge.svg\" alt=\"Open In Colab\"/></a>"
      ]
    },
    {
      "cell_type": "markdown",
      "metadata": {
        "id": "l3IR2E-4bPaO"
      },
      "source": [
        "# Train Sidewalk"
      ]
    },
    {
      "cell_type": "markdown",
      "metadata": {
        "id": "Ki3fla1eLG3g"
      },
      "source": [
        "# Validate with Random Test data"
      ]
    },
    {
      "cell_type": "code",
      "metadata": {
        "id": "sLP0zOJQYERZ"
      },
      "source": [
        "def val_yolo(val_data_path, conf=0.5, weights_path=None):\n",
        "  data_yaml = DATA_ROOT + \"validate.yaml\"\n",
        "  create_yaml(DATA_ROOT + \"validate_sidewalk_temp.yaml\", data_yaml, dict({\"val\": val_data_path}))\n",
        "\n",
        "  if weights_path is None:\n",
        "    weights_path = \"yolov5s.pt\"\n",
        "\n",
        "  !python val.py --weights $weights_path --img 640 --conf $conf --data $data_yaml\n",
        "\n",
        "# val_yolo(\"/content/drive/MyDrive/data/Top15/test_top15/top15_0\", conf=0.5, weights_path=\"/content/drive/MyDrive/data/Top15/runs/train/train15_0/weights/best.pt\")"
      ],
      "execution_count": null,
      "outputs": []
    },
    {
      "cell_type": "code",
      "metadata": {
        "id": "rSHtq1z-O6RP"
      },
      "source": [
        "def run_val(id, test_folder=DATA_ROOT + \"test\"):\n",
        "  weights_path = DATA_ROOT + \"runs/train/train_{}/weights/best.pt\".format(id)\n",
        "  dest_folder = DATA_ROOT + \"runs/test/test_{}\".format(id)\n",
        "\n",
        "  val_yolo(test_folder, conf=0.5, weights_path=weights_path)\n",
        "  !mv runs/val/exp $dest_folder"
      ],
      "execution_count": null,
      "outputs": []
    },
    {
      "cell_type": "code",
      "metadata": {
        "id": "2iKO_l6avgM1",
        "colab": {
          "base_uri": "https://localhost:8080/"
        },
        "outputId": "c246e11a-2f3c-42bf-f43d-dc0665df9ae6"
      },
      "source": [
        "run_val(0)"
      ],
      "execution_count": null,
      "outputs": [
        {
          "output_type": "stream",
          "name": "stdout",
          "text": [
            "Set val to /content/drive/MyDrive/data/SW15/test\n",
            "\u001b[34m\u001b[1mval: \u001b[0mdata=/content/drive/MyDrive/data/SW15/validate.yaml, weights=['/content/drive/MyDrive/data/SW15/runs/train/train_0/weights/best.pt'], batch_size=32, imgsz=640, conf_thres=0.5, iou_thres=0.6, task=val, device=, single_cls=False, augment=False, verbose=False, save_txt=False, save_hybrid=False, save_conf=False, save_json=False, project=runs/val, name=exp, exist_ok=False, half=False, dnn=False\n",
            "WARNING: confidence threshold 0.5 >> 0.001 will produce invalid mAP values.\n",
            "YOLOv5 🚀 v6.0-114-ga4207a2 torch 1.10.0+cu111 CUDA:0 (Tesla P100-PCIE-16GB, 16281MiB)\n",
            "\n",
            "Fusing layers... \n",
            "Model Summary: 213 layers, 7088338 parameters, 0 gradients, 16.0 GFLOPs\n",
            "\u001b[34m\u001b[1mval: \u001b[0mScanning '/content/drive/MyDrive/data/SW15/test.cache' images and labels... 1000 found, 0 missing, 2 empty, 0 corrupted: 100% 1000/1000 [00:00<?, ?it/s]\n",
            "               Class     Images     Labels          P          R     mAP@.5 mAP@.5:.95: 100% 32/32 [00:17<00:00,  1.82it/s]\n",
            "                 all       1000      10489      0.107     0.0131     0.0591     0.0316\n",
            "               truck       1000        451          0          0          0          0\n",
            "          tree_trunk       1000       1414      0.603     0.0332      0.315      0.137\n",
            "        traffic_sign       1000        473          0          0          0          0\n",
            "       traffic_light       1000        336          0          0          0          0\n",
            "        potted_plant       1000        283          0          0          0          0\n",
            "                pole       1000       1113          0          0          0          0\n",
            "              person       1000       1421          0          0          0          0\n",
            "     movable_signage       1000        479          0          0          0          0\n",
            "          motorcycle       1000        182          0          0          0          0\n",
            "               chair       1000         84          0          0          0          0\n",
            "                 car       1000       2960      0.876      0.119      0.493      0.294\n",
            "                 bus       1000        157          0          0          0          0\n",
            "             bollard       1000        808          0          0          0          0\n",
            "             bicycle       1000        214          0          0          0          0\n",
            "               bench       1000        114      0.132     0.0439      0.079     0.0434\n",
            "Speed: 0.2ms pre-process, 3.2ms inference, 0.9ms NMS per image at shape (32, 3, 640, 640)\n",
            "Results saved to \u001b[1mruns/val/exp\u001b[0m\n"
          ]
        }
      ]
    },
    {
      "cell_type": "code",
      "metadata": {
        "id": "8A9YvEJPrbch",
        "colab": {
          "base_uri": "https://localhost:8080/"
        },
        "outputId": "b38ace11-d2c0-406b-9de5-a3ea4e006df3"
      },
      "source": [
        "run_val(1)"
      ],
      "execution_count": null,
      "outputs": [
        {
          "output_type": "stream",
          "name": "stdout",
          "text": [
            "Set val to /content/drive/MyDrive/data/SW15/test\n",
            "\u001b[34m\u001b[1mval: \u001b[0mdata=/content/drive/MyDrive/data/SW15/validate.yaml, weights=['/content/drive/MyDrive/data/SW15/runs/train/train_1/weights/best.pt'], batch_size=32, imgsz=640, conf_thres=0.5, iou_thres=0.6, task=val, device=, single_cls=False, augment=False, verbose=False, save_txt=False, save_hybrid=False, save_conf=False, save_json=False, project=runs/val, name=exp, exist_ok=False, half=False, dnn=False\n",
            "WARNING: confidence threshold 0.5 >> 0.001 will produce invalid mAP values.\n",
            "YOLOv5 🚀 v6.0-114-ga4207a2 torch 1.10.0+cu111 CUDA:0 (Tesla P100-PCIE-16GB, 16281MiB)\n",
            "\n",
            "Fusing layers... \n",
            "Model Summary: 213 layers, 7088338 parameters, 0 gradients, 16.0 GFLOPs\n",
            "\u001b[34m\u001b[1mval: \u001b[0mScanning '/content/drive/MyDrive/data/SW15/test.cache' images and labels... 1000 found, 0 missing, 2 empty, 0 corrupted: 100% 1000/1000 [00:00<?, ?it/s]\n",
            "               Class     Images     Labels          P          R     mAP@.5 mAP@.5:.95: 100% 32/32 [00:18<00:00,  1.76it/s]\n",
            "                 all       1000      10489      0.187     0.0466      0.117      0.058\n",
            "               truck       1000        451          0          0          0          0\n",
            "          tree_trunk       1000       1414       0.71      0.116      0.407      0.183\n",
            "        traffic_sign       1000        473          0          0          0          0\n",
            "       traffic_light       1000        336          0          0          0          0\n",
            "        potted_plant       1000        283          0          0          0          0\n",
            "                pole       1000       1113       0.25     0.0027      0.126     0.0544\n",
            "              person       1000       1421      0.855      0.141      0.495      0.239\n",
            "     movable_signage       1000        479          0          0          0          0\n",
            "          motorcycle       1000        182          0          0          0          0\n",
            "               chair       1000         84          0          0          0          0\n",
            "                 car       1000       2960      0.801      0.298      0.548      0.317\n",
            "                 bus       1000        157          0          0          0          0\n",
            "             bollard       1000        808          0          0          0          0\n",
            "             bicycle       1000        214          0          0          0          0\n",
            "               bench       1000        114       0.19       0.14      0.173     0.0765\n",
            "Speed: 0.2ms pre-process, 3.2ms inference, 1.1ms NMS per image at shape (32, 3, 640, 640)\n",
            "Results saved to \u001b[1mruns/val/exp\u001b[0m\n"
          ]
        }
      ]
    },
    {
      "cell_type": "code",
      "metadata": {
        "id": "K0w4UBxqxNMY",
        "colab": {
          "base_uri": "https://localhost:8080/"
        },
        "outputId": "fb90dac3-ce8c-48de-a221-ee0dd5f3b451"
      },
      "source": [
        "run_val(2)"
      ],
      "execution_count": null,
      "outputs": [
        {
          "output_type": "stream",
          "name": "stdout",
          "text": [
            "Set val to /content/drive/MyDrive/data/SW15/test\n",
            "\u001b[34m\u001b[1mval: \u001b[0mdata=/content/drive/MyDrive/data/SW15/validate.yaml, weights=['/content/drive/MyDrive/data/SW15/runs/train/train_2/weights/best.pt'], batch_size=32, imgsz=640, conf_thres=0.5, iou_thres=0.6, task=val, device=, single_cls=False, augment=False, verbose=False, save_txt=False, save_hybrid=False, save_conf=False, save_json=False, project=runs/val, name=exp, exist_ok=False, half=False, dnn=False\n",
            "WARNING: confidence threshold 0.5 >> 0.001 will produce invalid mAP values.\n",
            "YOLOv5 🚀 v6.0-114-ga4207a2 torch 1.10.0+cu111 CUDA:0 (Tesla P100-PCIE-16GB, 16281MiB)\n",
            "\n",
            "Fusing layers... \n",
            "Model Summary: 213 layers, 7088338 parameters, 0 gradients, 16.0 GFLOPs\n",
            "\u001b[34m\u001b[1mval: \u001b[0mScanning '/content/drive/MyDrive/data/SW15/test.cache' images and labels... 1000 found, 0 missing, 2 empty, 0 corrupted: 100% 1000/1000 [00:00<?, ?it/s]\n",
            "               Class     Images     Labels          P          R     mAP@.5 mAP@.5:.95: 100% 32/32 [00:18<00:00,  1.75it/s]\n",
            "                 all       1000      10489      0.259     0.0752      0.165     0.0811\n",
            "               truck       1000        451          0          0          0          0\n",
            "          tree_trunk       1000       1414      0.606      0.182      0.388      0.162\n",
            "        traffic_sign       1000        473          0          0          0          0\n",
            "       traffic_light       1000        336          0          0          0          0\n",
            "        potted_plant       1000        283          0          0          0          0\n",
            "                pole       1000       1113       0.58      0.062      0.312      0.139\n",
            "              person       1000       1421      0.792       0.34      0.582      0.297\n",
            "     movable_signage       1000        479          0          0          0          0\n",
            "          motorcycle       1000        182          0          0          0          0\n",
            "               chair       1000         84          0          0          0          0\n",
            "                 car       1000       2960       0.86       0.36      0.609      0.359\n",
            "                 bus       1000        157          0          0          0          0\n",
            "             bollard       1000        808      0.875    0.00866      0.442      0.189\n",
            "             bicycle       1000        214          0          0          0          0\n",
            "               bench       1000        114      0.168      0.175      0.149     0.0711\n",
            "Speed: 0.3ms pre-process, 3.2ms inference, 1.1ms NMS per image at shape (32, 3, 640, 640)\n",
            "Results saved to \u001b[1mruns/val/exp\u001b[0m\n"
          ]
        }
      ]
    },
    {
      "cell_type": "code",
      "metadata": {
        "id": "L3cEBs6ww1dA",
        "colab": {
          "base_uri": "https://localhost:8080/"
        },
        "outputId": "4d41dc5a-5a6d-4d5f-f3e6-057803970a24"
      },
      "source": [
        "run_val(3)"
      ],
      "execution_count": null,
      "outputs": [
        {
          "output_type": "stream",
          "name": "stdout",
          "text": [
            "Set val to /content/drive/MyDrive/data/SW15/test\n",
            "\u001b[34m\u001b[1mval: \u001b[0mdata=/content/drive/MyDrive/data/SW15/validate.yaml, weights=['/content/drive/MyDrive/data/SW15/runs/train/train_3/weights/best.pt'], batch_size=32, imgsz=640, conf_thres=0.5, iou_thres=0.6, task=val, device=, single_cls=False, augment=False, verbose=False, save_txt=False, save_hybrid=False, save_conf=False, save_json=False, project=runs/val, name=exp, exist_ok=False, half=False, dnn=False\n",
            "WARNING: confidence threshold 0.5 >> 0.001 will produce invalid mAP values.\n",
            "YOLOv5 🚀 v6.0-114-ga4207a2 torch 1.10.0+cu111 CUDA:0 (Tesla P100-PCIE-16GB, 16281MiB)\n",
            "\n",
            "Fusing layers... \n",
            "Model Summary: 213 layers, 7088338 parameters, 0 gradients, 16.0 GFLOPs\n",
            "\u001b[34m\u001b[1mval: \u001b[0mScanning '/content/drive/MyDrive/data/SW15/test.cache' images and labels... 1000 found, 0 missing, 2 empty, 0 corrupted: 100% 1000/1000 [00:00<?, ?it/s]\n",
            "               Class     Images     Labels          P          R     mAP@.5 mAP@.5:.95: 100% 32/32 [00:18<00:00,  1.74it/s]\n",
            "                 all       1000      10489      0.299      0.103        0.2      0.101\n",
            "               truck       1000        451          0          0          0          0\n",
            "          tree_trunk       1000       1414      0.627      0.269      0.446      0.197\n",
            "        traffic_sign       1000        473          0          0          0          0\n",
            "       traffic_light       1000        336          0          0          0          0\n",
            "        potted_plant       1000        283          0          0          0          0\n",
            "                pole       1000       1113      0.556      0.178      0.349      0.133\n",
            "              person       1000       1421      0.767      0.392      0.598      0.322\n",
            "     movable_signage       1000        479       0.75    0.00626      0.379      0.151\n",
            "          motorcycle       1000        182          0          0          0          0\n",
            "               chair       1000         84          0          0          0          0\n",
            "                 car       1000       2960      0.798       0.47      0.642      0.374\n",
            "                 bus       1000        157          0          0          0          0\n",
            "             bollard       1000        808      0.833    0.00619       0.42      0.251\n",
            "             bicycle       1000        214          0          0          0          0\n",
            "               bench       1000        114      0.147      0.219      0.162     0.0833\n",
            "Speed: 0.2ms pre-process, 3.2ms inference, 1.5ms NMS per image at shape (32, 3, 640, 640)\n",
            "Results saved to \u001b[1mruns/val/exp\u001b[0m\n"
          ]
        }
      ]
    },
    {
      "cell_type": "code",
      "metadata": {
        "id": "TDVXdgn66FOp",
        "colab": {
          "base_uri": "https://localhost:8080/"
        },
        "outputId": "1a585062-03a7-4714-9d0f-b24c346857e4"
      },
      "source": [
        "run_val(4)"
      ],
      "execution_count": null,
      "outputs": [
        {
          "output_type": "stream",
          "name": "stdout",
          "text": [
            "Set val to /content/drive/MyDrive/data/SW15/test\n",
            "\u001b[34m\u001b[1mval: \u001b[0mdata=/content/drive/MyDrive/data/SW15/validate.yaml, weights=['/content/drive/MyDrive/data/SW15/runs/train/train_4/weights/best.pt'], batch_size=32, imgsz=640, conf_thres=0.5, iou_thres=0.6, task=val, device=, single_cls=False, augment=False, verbose=False, save_txt=False, save_hybrid=False, save_conf=False, save_json=False, project=runs/val, name=exp, exist_ok=False, half=False, dnn=False\n",
            "WARNING: confidence threshold 0.5 >> 0.001 will produce invalid mAP values.\n",
            "YOLOv5 🚀 v6.0-114-ga4207a2 torch 1.10.0+cu111 CUDA:0 (Tesla P100-PCIE-16GB, 16281MiB)\n",
            "\n",
            "Fusing layers... \n",
            "Model Summary: 213 layers, 7088338 parameters, 0 gradients, 16.0 GFLOPs\n",
            "\u001b[34m\u001b[1mval: \u001b[0mScanning '/content/drive/MyDrive/data/SW15/test.cache' images and labels... 1000 found, 0 missing, 2 empty, 0 corrupted: 100% 1000/1000 [00:00<?, ?it/s]\n",
            "               Class     Images     Labels          P          R     mAP@.5 mAP@.5:.95: 100% 32/32 [00:18<00:00,  1.75it/s]\n",
            "                 all       1000      10489      0.301      0.125      0.213      0.113\n",
            "               truck       1000        451          0          0          0          0\n",
            "          tree_trunk       1000       1414      0.686      0.291      0.491       0.23\n",
            "        traffic_sign       1000        473          0          0          0          0\n",
            "       traffic_light       1000        336          0          0          0          0\n",
            "        potted_plant       1000        283          0          0          0          0\n",
            "                pole       1000       1113      0.564      0.206      0.374       0.16\n",
            "              person       1000       1421      0.757       0.44      0.626      0.342\n",
            "     movable_signage       1000        479      0.714     0.0104      0.361      0.231\n",
            "          motorcycle       1000        182          0          0          0          0\n",
            "               chair       1000         84      0.133     0.0238     0.0712     0.0534\n",
            "                 car       1000       2960      0.792      0.529      0.674      0.405\n",
            "                 bus       1000        157          0          0          0          0\n",
            "             bollard       1000        808      0.669      0.132      0.381      0.177\n",
            "             bicycle       1000        214          0          0          0          0\n",
            "               bench       1000        114      0.205      0.237      0.213      0.103\n",
            "Speed: 0.3ms pre-process, 3.2ms inference, 1.2ms NMS per image at shape (32, 3, 640, 640)\n",
            "Results saved to \u001b[1mruns/val/exp\u001b[0m\n"
          ]
        }
      ]
    },
    {
      "cell_type": "code",
      "metadata": {
        "id": "F0IcnsLGxoAb",
        "colab": {
          "base_uri": "https://localhost:8080/"
        },
        "outputId": "59b360eb-4daa-4260-b2bb-bf7d4e8a098e"
      },
      "source": [
        "run_val(5)"
      ],
      "execution_count": null,
      "outputs": [
        {
          "output_type": "stream",
          "name": "stdout",
          "text": [
            "Set val to /content/drive/MyDrive/data/SW15/test\n",
            "\u001b[34m\u001b[1mval: \u001b[0mdata=/content/drive/MyDrive/data/SW15/validate.yaml, weights=['/content/drive/MyDrive/data/SW15/runs/train/train_5/weights/best.pt'], batch_size=32, imgsz=640, conf_thres=0.5, iou_thres=0.6, task=val, device=, single_cls=False, augment=False, verbose=False, save_txt=False, save_hybrid=False, save_conf=False, save_json=False, project=runs/val, name=exp, exist_ok=False, half=False, dnn=False\n",
            "WARNING: confidence threshold 0.5 >> 0.001 will produce invalid mAP values.\n",
            "YOLOv5 🚀 v6.0-114-ga4207a2 torch 1.10.0+cu111 CUDA:0 (Tesla P100-PCIE-16GB, 16281MiB)\n",
            "\n",
            "Fusing layers... \n",
            "Model Summary: 213 layers, 7088338 parameters, 0 gradients, 16.0 GFLOPs\n",
            "\u001b[34m\u001b[1mval: \u001b[0mScanning '/content/drive/MyDrive/data/SW15/test.cache' images and labels... 1000 found, 0 missing, 2 empty, 0 corrupted: 100% 1000/1000 [00:00<?, ?it/s]\n",
            "               Class     Images     Labels          P          R     mAP@.5 mAP@.5:.95: 100% 32/32 [00:18<00:00,  1.74it/s]\n",
            "                 all       1000      10489      0.364      0.135      0.244      0.122\n",
            "               truck       1000        451          0          0          0          0\n",
            "          tree_trunk       1000       1414      0.717      0.311      0.518      0.227\n",
            "        traffic_sign       1000        473        0.4     0.0169      0.207      0.105\n",
            "       traffic_light       1000        336          0          0          0          0\n",
            "        potted_plant       1000        283      0.694     0.0883      0.383      0.146\n",
            "                pole       1000       1113      0.711      0.162      0.428      0.189\n",
            "              person       1000       1421      0.846      0.395      0.637      0.353\n",
            "     movable_signage       1000        479      0.509      0.108      0.302      0.162\n",
            "          motorcycle       1000        182          0          0          0          0\n",
            "               chair       1000         84      0.153      0.298      0.155     0.0713\n",
            "                 car       1000       2960      0.808      0.498      0.666      0.408\n",
            "                 bus       1000        157          0          0          0          0\n",
            "             bollard       1000        808      0.626      0.145      0.366      0.161\n",
            "             bicycle       1000        214          0          0          0          0\n",
            "               bench       1000        114          0          0          0          0\n",
            "Speed: 0.3ms pre-process, 3.2ms inference, 1.2ms NMS per image at shape (32, 3, 640, 640)\n",
            "Results saved to \u001b[1mruns/val/exp\u001b[0m\n"
          ]
        }
      ]
    },
    {
      "cell_type": "code",
      "metadata": {
        "id": "j1tCTp3kzl5-",
        "colab": {
          "base_uri": "https://localhost:8080/"
        },
        "outputId": "9d7c02de-6d2a-4c4b-da08-fc427f96db0b"
      },
      "source": [
        "run_val(6)"
      ],
      "execution_count": null,
      "outputs": [
        {
          "output_type": "stream",
          "name": "stdout",
          "text": [
            "Set val to /content/drive/MyDrive/data/SW15/test\n",
            "\u001b[34m\u001b[1mval: \u001b[0mdata=/content/drive/MyDrive/data/SW15/validate.yaml, weights=['/content/drive/MyDrive/data/SW15/runs/train/train_6/weights/best.pt'], batch_size=32, imgsz=640, conf_thres=0.5, iou_thres=0.6, task=val, device=, single_cls=False, augment=False, verbose=False, save_txt=False, save_hybrid=False, save_conf=False, save_json=False, project=runs/val, name=exp, exist_ok=False, half=False, dnn=False\n",
            "WARNING: confidence threshold 0.5 >> 0.001 will produce invalid mAP values.\n",
            "YOLOv5 🚀 v6.0-114-ga4207a2 torch 1.10.0+cu111 CUDA:0 (Tesla P100-PCIE-16GB, 16281MiB)\n",
            "\n",
            "Fusing layers... \n",
            "Model Summary: 213 layers, 7088338 parameters, 0 gradients, 16.0 GFLOPs\n",
            "\u001b[34m\u001b[1mval: \u001b[0mScanning '/content/drive/MyDrive/data/SW15/test.cache' images and labels... 1000 found, 0 missing, 2 empty, 0 corrupted: 100% 1000/1000 [00:00<?, ?it/s]\n",
            "               Class     Images     Labels          P          R     mAP@.5 mAP@.5:.95: 100% 32/32 [00:18<00:00,  1.71it/s]\n",
            "                 all       1000      10489      0.424      0.171      0.292       0.16\n",
            "               truck       1000        451      0.576      0.151      0.342       0.22\n",
            "          tree_trunk       1000       1414      0.671      0.248      0.457      0.213\n",
            "        traffic_sign       1000        473      0.412     0.0444      0.225      0.117\n",
            "       traffic_light       1000        336          0          0          0          0\n",
            "        potted_plant       1000        283        0.5     0.0989      0.295      0.135\n",
            "                pole       1000       1113      0.747      0.122      0.431      0.209\n",
            "              person       1000       1421      0.861      0.484      0.692      0.397\n",
            "     movable_signage       1000        479      0.489      0.192      0.337      0.196\n",
            "          motorcycle       1000        182       0.46      0.126      0.268      0.164\n",
            "               chair       1000         84      0.174      0.298      0.182       0.09\n",
            "                 car       1000       2960      0.787       0.59      0.711      0.437\n",
            "                 bus       1000        157          0          0          0          0\n",
            "             bollard       1000        808      0.688      0.204      0.448      0.216\n",
            "             bicycle       1000        214          0          0          0          0\n",
            "               bench       1000        114          0          0          0          0\n",
            "Speed: 0.3ms pre-process, 3.2ms inference, 1.2ms NMS per image at shape (32, 3, 640, 640)\n",
            "Results saved to \u001b[1mruns/val/exp\u001b[0m\n"
          ]
        }
      ]
    },
    {
      "cell_type": "code",
      "metadata": {
        "id": "ait6lFGHzvzk",
        "colab": {
          "base_uri": "https://localhost:8080/"
        },
        "outputId": "49b08056-27ff-4a2e-99ce-f241ff46cc14"
      },
      "source": [
        "run_val(7)"
      ],
      "execution_count": null,
      "outputs": [
        {
          "output_type": "stream",
          "name": "stdout",
          "text": [
            "Set val to /content/drive/MyDrive/data/SW15/test\n",
            "\u001b[34m\u001b[1mval: \u001b[0mdata=/content/drive/MyDrive/data/SW15/validate.yaml, weights=['/content/drive/MyDrive/data/SW15/runs/train/train_7/weights/best.pt'], batch_size=32, imgsz=640, conf_thres=0.5, iou_thres=0.6, task=val, device=, single_cls=False, augment=False, verbose=False, save_txt=False, save_hybrid=False, save_conf=False, save_json=False, project=runs/val, name=exp, exist_ok=False, half=False, dnn=False\n",
            "WARNING: confidence threshold 0.5 >> 0.001 will produce invalid mAP values.\n",
            "YOLOv5 🚀 v6.0-114-ga4207a2 torch 1.10.0+cu111 CUDA:0 (Tesla P100-PCIE-16GB, 16281MiB)\n",
            "\n",
            "Fusing layers... \n",
            "Model Summary: 213 layers, 7088338 parameters, 0 gradients, 16.0 GFLOPs\n",
            "\u001b[34m\u001b[1mval: \u001b[0mScanning '/content/drive/MyDrive/data/SW15/test.cache' images and labels... 1000 found, 0 missing, 2 empty, 0 corrupted: 100% 1000/1000 [00:00<?, ?it/s]\n",
            "               Class     Images     Labels          P          R     mAP@.5 mAP@.5:.95: 100% 32/32 [00:18<00:00,  1.72it/s]\n",
            "                 all       1000      10489      0.498      0.142      0.321      0.175\n",
            "               truck       1000        451      0.674     0.0643      0.363      0.255\n",
            "          tree_trunk       1000       1414      0.738      0.181      0.452       0.21\n",
            "        traffic_sign       1000        473      0.783     0.0381      0.411      0.232\n",
            "       traffic_light       1000        336          0          0          0          0\n",
            "        potted_plant       1000        283      0.508      0.117      0.307      0.141\n",
            "                pole       1000       1113       0.81      0.154      0.484      0.228\n",
            "              person       1000       1421       0.88      0.447       0.68      0.397\n",
            "     movable_signage       1000        479      0.639      0.129      0.386      0.233\n",
            "          motorcycle       1000        182        0.5    0.00549      0.254      0.102\n",
            "               chair       1000         84      0.278      0.262      0.268      0.145\n",
            "                 car       1000       2960      0.844      0.568      0.725      0.464\n",
            "                 bus       1000        157          0          0          0          0\n",
            "             bollard       1000        808       0.81      0.158      0.482       0.22\n",
            "             bicycle       1000        214          0          0          0          0\n",
            "               bench       1000        114          0          0          0          0\n",
            "Speed: 0.2ms pre-process, 3.1ms inference, 1.1ms NMS per image at shape (32, 3, 640, 640)\n",
            "Results saved to \u001b[1mruns/val/exp\u001b[0m\n"
          ]
        }
      ]
    },
    {
      "cell_type": "code",
      "metadata": {
        "id": "aUZLk9KRzcCA",
        "colab": {
          "base_uri": "https://localhost:8080/"
        },
        "outputId": "ba70dba4-f37d-4829-c21d-12cb1ff4c7c3"
      },
      "source": [
        "run_val(8)"
      ],
      "execution_count": null,
      "outputs": [
        {
          "output_type": "stream",
          "name": "stdout",
          "text": [
            "Set val to /content/drive/MyDrive/data/SW15/test\n",
            "\u001b[34m\u001b[1mval: \u001b[0mdata=/content/drive/MyDrive/data/SW15/validate.yaml, weights=['/content/drive/MyDrive/data/SW15/runs/train/train_8/weights/best.pt'], batch_size=32, imgsz=640, conf_thres=0.5, iou_thres=0.6, task=val, device=, single_cls=False, augment=False, verbose=False, save_txt=False, save_hybrid=False, save_conf=False, save_json=False, project=runs/val, name=exp, exist_ok=False, half=False, dnn=False\n",
            "WARNING: confidence threshold 0.5 >> 0.001 will produce invalid mAP values.\n",
            "YOLOv5 🚀 v6.0-114-ga4207a2 torch 1.10.0+cu111 CUDA:0 (Tesla P100-PCIE-16GB, 16281MiB)\n",
            "\n",
            "Fusing layers... \n",
            "Model Summary: 213 layers, 7088338 parameters, 0 gradients, 16.0 GFLOPs\n",
            "\u001b[34m\u001b[1mval: \u001b[0mScanning '/content/drive/MyDrive/data/SW15/test.cache' images and labels... 1000 found, 0 missing, 2 empty, 0 corrupted: 100% 1000/1000 [00:00<?, ?it/s]\n",
            "               Class     Images     Labels          P          R     mAP@.5 mAP@.5:.95: 100% 32/32 [00:18<00:00,  1.69it/s]\n",
            "                 all       1000      10489      0.554      0.149      0.351        0.2\n",
            "               truck       1000        451      0.658     0.0554      0.352      0.242\n",
            "          tree_trunk       1000       1414      0.718      0.269      0.492      0.219\n",
            "        traffic_sign       1000        473      0.611     0.0233       0.32      0.166\n",
            "       traffic_light       1000        336          0          0          0          0\n",
            "        potted_plant       1000        283       0.61     0.0883      0.351      0.163\n",
            "                pole       1000       1113      0.812      0.167      0.487       0.25\n",
            "              person       1000       1421      0.891      0.462      0.692      0.418\n",
            "     movable_signage       1000        479      0.669      0.165      0.419      0.251\n",
            "          motorcycle       1000        182       0.55     0.0604      0.299      0.199\n",
            "               chair       1000         84      0.257      0.226      0.218       0.12\n",
            "                 car       1000       2960       0.83      0.549      0.707      0.467\n",
            "                 bus       1000        157          0          0          0          0\n",
            "             bollard       1000        808      0.706       0.17      0.427      0.199\n",
            "             bicycle       1000        214          1    0.00467      0.502      0.301\n",
            "               bench       1000        114          0          0          0          0\n",
            "Speed: 0.3ms pre-process, 3.3ms inference, 1.2ms NMS per image at shape (32, 3, 640, 640)\n",
            "Results saved to \u001b[1mruns/val/exp\u001b[0m\n"
          ]
        }
      ]
    },
    {
      "cell_type": "code",
      "metadata": {
        "id": "LWanlbYnzZub",
        "colab": {
          "base_uri": "https://localhost:8080/"
        },
        "outputId": "b612d958-ea97-4254-af27-f46d0c036118"
      },
      "source": [
        "run_val(9)"
      ],
      "execution_count": null,
      "outputs": [
        {
          "output_type": "stream",
          "name": "stdout",
          "text": [
            "Set val to /content/drive/MyDrive/data/SW15/test\n",
            "\u001b[34m\u001b[1mval: \u001b[0mdata=/content/drive/MyDrive/data/SW15/validate.yaml, weights=['/content/drive/MyDrive/data/SW15/runs/train/train_9/weights/best.pt'], batch_size=32, imgsz=640, conf_thres=0.5, iou_thres=0.6, task=val, device=, single_cls=False, augment=False, verbose=False, save_txt=False, save_hybrid=False, save_conf=False, save_json=False, project=runs/val, name=exp, exist_ok=False, half=False, dnn=False\n",
            "WARNING: confidence threshold 0.5 >> 0.001 will produce invalid mAP values.\n",
            "YOLOv5 🚀 v6.0-114-ga4207a2 torch 1.10.0+cu111 CUDA:0 (Tesla P100-PCIE-16GB, 16281MiB)\n",
            "\n",
            "Fusing layers... \n",
            "Model Summary: 213 layers, 7088338 parameters, 0 gradients, 16.0 GFLOPs\n",
            "\u001b[34m\u001b[1mval: \u001b[0mScanning '/content/drive/MyDrive/data/SW15/test.cache' images and labels... 1000 found, 0 missing, 2 empty, 0 corrupted: 100% 1000/1000 [00:00<?, ?it/s]\n",
            "               Class     Images     Labels          P          R     mAP@.5 mAP@.5:.95: 100% 32/32 [00:18<00:00,  1.72it/s]\n",
            "                 all       1000      10489      0.546      0.143      0.345       0.19\n",
            "               truck       1000        451          0          0          0          0\n",
            "          tree_trunk       1000       1414       0.68      0.318      0.496      0.229\n",
            "        traffic_sign       1000        473      0.692     0.0381      0.368      0.152\n",
            "       traffic_light       1000        336          0          0          0          0\n",
            "        potted_plant       1000        283      0.833     0.0353      0.434      0.252\n",
            "                pole       1000       1113      0.781      0.237        0.5      0.245\n",
            "              person       1000       1421      0.851      0.429       0.66      0.401\n",
            "     movable_signage       1000        479       0.65      0.167      0.404      0.241\n",
            "          motorcycle       1000        182      0.579     0.0604      0.311      0.204\n",
            "               chair       1000         84      0.615     0.0952      0.367      0.201\n",
            "                 car       1000       2960      0.856      0.545      0.716      0.482\n",
            "                 bus       1000        157          0          0          0          0\n",
            "             bollard       1000        808      0.657      0.199      0.405      0.178\n",
            "             bicycle       1000        214          1      0.014      0.507      0.269\n",
            "               bench       1000        114          0          0          0          0\n",
            "Speed: 0.3ms pre-process, 3.3ms inference, 1.1ms NMS per image at shape (32, 3, 640, 640)\n",
            "Results saved to \u001b[1mruns/val/exp\u001b[0m\n"
          ]
        }
      ]
    },
    {
      "cell_type": "code",
      "metadata": {
        "colab": {
          "base_uri": "https://localhost:8080/"
        },
        "id": "zeU1lvhLtDm0",
        "outputId": "cc765212-7cac-44a8-ca9e-1b3ea0eafd4c"
      },
      "source": [
        "run_val(10)"
      ],
      "execution_count": null,
      "outputs": [
        {
          "output_type": "stream",
          "name": "stdout",
          "text": [
            "Set val to /content/drive/MyDrive/data/SW15/test\n",
            "\u001b[34m\u001b[1mval: \u001b[0mdata=/content/drive/MyDrive/data/SW15/validate.yaml, weights=['/content/drive/MyDrive/data/SW15/runs/train/train_10/weights/best.pt'], batch_size=32, imgsz=640, conf_thres=0.5, iou_thres=0.6, task=val, device=, single_cls=False, augment=False, verbose=False, save_txt=False, save_hybrid=False, save_conf=False, save_json=False, project=runs/val, name=exp, exist_ok=False, half=False, dnn=False\n",
            "WARNING: confidence threshold 0.5 >> 0.001 will produce invalid mAP values.\n",
            "YOLOv5 🚀 v6.0-114-ga4207a2 torch 1.10.0+cu111 CUDA:0 (Tesla P100-PCIE-16GB, 16281MiB)\n",
            "\n",
            "Fusing layers... \n",
            "Model Summary: 213 layers, 7088338 parameters, 0 gradients, 16.0 GFLOPs\n",
            "\u001b[34m\u001b[1mval: \u001b[0mScanning '/content/drive/MyDrive/data/SW15/test.cache' images and labels... 1000 found, 0 missing, 2 empty, 0 corrupted: 100% 1000/1000 [00:00<?, ?it/s]\n",
            "               Class     Images     Labels          P          R     mAP@.5 mAP@.5:.95: 100% 32/32 [00:18<00:00,  1.71it/s]\n",
            "                 all       1000      10489      0.491       0.13      0.312      0.174\n",
            "               truck       1000        451      0.167    0.00222     0.0839     0.0588\n",
            "          tree_trunk       1000       1414      0.738      0.247      0.489      0.246\n",
            "        traffic_sign       1000        473      0.692     0.0571      0.377       0.19\n",
            "       traffic_light       1000        336      0.125    0.00298     0.0628     0.0188\n",
            "        potted_plant       1000        283      0.565     0.0919      0.319      0.159\n",
            "                pole       1000       1113      0.862     0.0674      0.463      0.224\n",
            "              person       1000       1421      0.879      0.471      0.694      0.405\n",
            "     movable_signage       1000        479        0.6      0.125       0.36      0.226\n",
            "          motorcycle       1000        182          0          0          0          0\n",
            "               chair       1000         84      0.727     0.0952      0.412      0.209\n",
            "                 car       1000       2960      0.883      0.526      0.715       0.48\n",
            "                 bus       1000        157          0          0          0          0\n",
            "             bollard       1000        808      0.724      0.262      0.496      0.243\n",
            "             bicycle       1000        214        0.4    0.00935      0.205      0.153\n",
            "               bench       1000        114          0          0          0          0\n",
            "Speed: 0.3ms pre-process, 3.2ms inference, 1.2ms NMS per image at shape (32, 3, 640, 640)\n",
            "Results saved to \u001b[1mruns/val/exp\u001b[0m\n"
          ]
        }
      ]
    },
    {
      "cell_type": "code",
      "metadata": {
        "id": "tRdgLNmeMP4t",
        "colab": {
          "base_uri": "https://localhost:8080/"
        },
        "outputId": "58027018-1814-4ae8-b7c7-418250813378"
      },
      "source": [
        "run_val(11)"
      ],
      "execution_count": null,
      "outputs": [
        {
          "output_type": "stream",
          "name": "stdout",
          "text": [
            "Set val to /content/drive/MyDrive/data/SW15/test\n",
            "\u001b[34m\u001b[1mval: \u001b[0mdata=/content/drive/MyDrive/data/SW15/validate.yaml, weights=['/content/drive/MyDrive/data/SW15/runs/train/train_11/weights/best.pt'], batch_size=32, imgsz=640, conf_thres=0.5, iou_thres=0.6, task=val, device=, single_cls=False, augment=False, verbose=False, save_txt=False, save_hybrid=False, save_conf=False, save_json=False, project=runs/val, name=exp, exist_ok=False, half=False, dnn=False\n",
            "WARNING: confidence threshold 0.5 >> 0.001 will produce invalid mAP values.\n",
            "YOLOv5 🚀 v6.0-114-ga4207a2 torch 1.10.0+cu111 CUDA:0 (Tesla P100-PCIE-16GB, 16281MiB)\n",
            "\n",
            "Fusing layers... \n",
            "Model Summary: 213 layers, 7088338 parameters, 0 gradients, 16.0 GFLOPs\n",
            "\u001b[34m\u001b[1mval: \u001b[0mScanning '/content/drive/MyDrive/data/SW15/test.cache' images and labels... 1000 found, 0 missing, 2 empty, 0 corrupted: 100% 1000/1000 [00:00<?, ?it/s]\n",
            "               Class     Images     Labels          P          R     mAP@.5 mAP@.5:.95: 100% 32/32 [00:18<00:00,  1.74it/s]\n",
            "                 all       1000      10489      0.588      0.118      0.353       0.21\n",
            "               truck       1000        451       0.25    0.00443      0.127      0.101\n",
            "          tree_trunk       1000       1414      0.837       0.16      0.495       0.28\n",
            "        traffic_sign       1000        473      0.731     0.0402      0.386      0.224\n",
            "       traffic_light       1000        336      0.333    0.00298      0.168      0.084\n",
            "        potted_plant       1000        283      0.535     0.0813        0.3      0.144\n",
            "                pole       1000       1113      0.855     0.0422       0.45      0.253\n",
            "              person       1000       1421      0.908       0.46      0.696      0.419\n",
            "     movable_signage       1000        479      0.614     0.0898      0.351      0.234\n",
            "          motorcycle       1000        182          1      0.022      0.511      0.344\n",
            "               chair       1000         84      0.833     0.0595      0.441      0.229\n",
            "                 car       1000       2960      0.883      0.527      0.715      0.489\n",
            "                 bus       1000        157          0          0          0          0\n",
            "             bollard       1000        808      0.713      0.265      0.488      0.232\n",
            "             bicycle       1000        214      0.333    0.00935      0.172       0.12\n",
            "               bench       1000        114          0          0          0          0\n",
            "Speed: 0.2ms pre-process, 3.2ms inference, 1.2ms NMS per image at shape (32, 3, 640, 640)\n",
            "Results saved to \u001b[1mruns/val/exp\u001b[0m\n"
          ]
        }
      ]
    },
    {
      "cell_type": "code",
      "metadata": {
        "id": "WTJqDpYIMQ2R",
        "colab": {
          "base_uri": "https://localhost:8080/"
        },
        "outputId": "44247f1c-a5f3-4e6d-b1f6-688bde2062dd"
      },
      "source": [
        "run_val(12)"
      ],
      "execution_count": null,
      "outputs": [
        {
          "output_type": "stream",
          "name": "stdout",
          "text": [
            "Set val to /content/drive/MyDrive/data/SW15/test\n",
            "\u001b[34m\u001b[1mval: \u001b[0mdata=/content/drive/MyDrive/data/SW15/validate.yaml, weights=['/content/drive/MyDrive/data/SW15/runs/train/train_12/weights/best.pt'], batch_size=32, imgsz=640, conf_thres=0.5, iou_thres=0.6, task=val, device=, single_cls=False, augment=False, verbose=False, save_txt=False, save_hybrid=False, save_conf=False, save_json=False, project=runs/val, name=exp, exist_ok=False, half=False, dnn=False\n",
            "WARNING: confidence threshold 0.5 >> 0.001 will produce invalid mAP values.\n",
            "YOLOv5 🚀 v6.0-114-ga4207a2 torch 1.10.0+cu111 CUDA:0 (Tesla P100-PCIE-16GB, 16281MiB)\n",
            "\n",
            "Fusing layers... \n",
            "Model Summary: 213 layers, 7088338 parameters, 0 gradients, 16.0 GFLOPs\n",
            "\u001b[34m\u001b[1mval: \u001b[0mScanning '/content/drive/MyDrive/data/SW15/test.cache' images and labels... 1000 found, 0 missing, 2 empty, 0 corrupted: 100% 1000/1000 [00:00<?, ?it/s]\n",
            "               Class     Images     Labels          P          R     mAP@.5 mAP@.5:.95: 100% 32/32 [00:19<00:00,  1.68it/s]\n",
            "                 all       1000      10489       0.45      0.155      0.303      0.153\n",
            "               truck       1000        451          0          0          0          0\n",
            "          tree_trunk       1000       1414      0.637      0.257      0.437      0.185\n",
            "        traffic_sign       1000        473      0.583     0.0296      0.308      0.149\n",
            "       traffic_light       1000        336      0.273    0.00893      0.139     0.0511\n",
            "        potted_plant       1000        283      0.604      0.102      0.354      0.139\n",
            "                pole       1000       1113      0.644      0.261      0.444      0.203\n",
            "              person       1000       1421      0.743      0.489       0.64      0.329\n",
            "     movable_signage       1000        479      0.505        0.1      0.309       0.17\n",
            "          motorcycle       1000        182      0.417     0.0824      0.254      0.169\n",
            "               chair       1000         84          0          0          0          0\n",
            "                 car       1000       2960      0.826      0.569      0.717      0.454\n",
            "                 bus       1000        157      0.364      0.102      0.213      0.135\n",
            "             bollard       1000        808       0.54      0.266      0.389      0.158\n",
            "             bicycle       1000        214      0.609     0.0654      0.335      0.147\n",
            "               bench       1000        114          0          0          0          0\n",
            "Speed: 0.3ms pre-process, 3.2ms inference, 1.2ms NMS per image at shape (32, 3, 640, 640)\n",
            "Results saved to \u001b[1mruns/val/exp\u001b[0m\n"
          ]
        }
      ]
    },
    {
      "cell_type": "code",
      "metadata": {
        "id": "PK8rZsUsMRwa",
        "colab": {
          "base_uri": "https://localhost:8080/"
        },
        "outputId": "1663d555-16dc-45cc-8176-c6c57bf8c86b"
      },
      "source": [
        "run_val(13)"
      ],
      "execution_count": null,
      "outputs": [
        {
          "output_type": "stream",
          "name": "stdout",
          "text": [
            "Set val to /content/drive/MyDrive/data/SW15/test\n",
            "\u001b[34m\u001b[1mval: \u001b[0mdata=/content/drive/MyDrive/data/SW15/validate.yaml, weights=['/content/drive/MyDrive/data/SW15/runs/train/train_13/weights/best.pt'], batch_size=32, imgsz=640, conf_thres=0.5, iou_thres=0.6, task=val, device=, single_cls=False, augment=False, verbose=False, save_txt=False, save_hybrid=False, save_conf=False, save_json=False, project=runs/val, name=exp, exist_ok=False, half=False, dnn=False\n",
            "WARNING: confidence threshold 0.5 >> 0.001 will produce invalid mAP values.\n",
            "YOLOv5 🚀 v6.0-114-ga4207a2 torch 1.10.0+cu111 CUDA:0 (Tesla P100-PCIE-16GB, 16281MiB)\n",
            "\n",
            "Fusing layers... \n",
            "Model Summary: 213 layers, 7088338 parameters, 0 gradients, 16.0 GFLOPs\n",
            "\u001b[34m\u001b[1mval: \u001b[0mScanning '/content/drive/MyDrive/data/SW15/test.cache' images and labels... 1000 found, 0 missing, 2 empty, 0 corrupted: 100% 1000/1000 [00:00<?, ?it/s]\n",
            "               Class     Images     Labels          P          R     mAP@.5 mAP@.5:.95: 100% 32/32 [00:18<00:00,  1.71it/s]\n",
            "                 all       1000      10489      0.611      0.156      0.382      0.212\n",
            "               truck       1000        451        0.5    0.00222      0.253      0.202\n",
            "          tree_trunk       1000       1414      0.696      0.291      0.488      0.213\n",
            "        traffic_sign       1000        473       0.75     0.0127      0.382      0.242\n",
            "       traffic_light       1000        336      0.786     0.0327      0.406      0.213\n",
            "        potted_plant       1000        283      0.643     0.0636      0.346      0.139\n",
            "                pole       1000       1113      0.718      0.176       0.44      0.212\n",
            "              person       1000       1421      0.839      0.472      0.679      0.387\n",
            "     movable_signage       1000        479      0.626      0.192      0.405      0.239\n",
            "          motorcycle       1000        182          1      0.022      0.511      0.254\n",
            "               chair       1000         84          0          0          0          0\n",
            "                 car       1000       2960      0.894      0.523      0.718      0.484\n",
            "                 bus       1000        157      0.368      0.134      0.224      0.161\n",
            "             bollard       1000        808       0.73       0.33      0.536       0.27\n",
            "             bicycle       1000        214      0.621     0.0841      0.338      0.164\n",
            "               bench       1000        114          0          0          0          0\n",
            "Speed: 0.1ms pre-process, 3.3ms inference, 1.3ms NMS per image at shape (32, 3, 640, 640)\n",
            "Results saved to \u001b[1mruns/val/exp\u001b[0m\n"
          ]
        }
      ]
    },
    {
      "cell_type": "code",
      "metadata": {
        "id": "NQFrjvBOMSin",
        "colab": {
          "base_uri": "https://localhost:8080/"
        },
        "outputId": "ab9e06d5-4f1c-4d39-f4ab-063e36c71f9d"
      },
      "source": [
        "run_val(14)"
      ],
      "execution_count": null,
      "outputs": [
        {
          "output_type": "stream",
          "name": "stdout",
          "text": [
            "Set val to /content/drive/MyDrive/data/SW15/test\n",
            "\u001b[34m\u001b[1mval: \u001b[0mdata=/content/drive/MyDrive/data/SW15/validate.yaml, weights=['/content/drive/MyDrive/data/SW15/runs/train/train_14/weights/best.pt'], batch_size=32, imgsz=640, conf_thres=0.5, iou_thres=0.6, task=val, device=, single_cls=False, augment=False, verbose=False, save_txt=False, save_hybrid=False, save_conf=False, save_json=False, project=runs/val, name=exp, exist_ok=False, half=False, dnn=False\n",
            "WARNING: confidence threshold 0.5 >> 0.001 will produce invalid mAP values.\n",
            "YOLOv5 🚀 v6.0-114-ga4207a2 torch 1.10.0+cu111 CUDA:0 (Tesla P100-PCIE-16GB, 16281MiB)\n",
            "\n",
            "Fusing layers... \n",
            "Model Summary: 213 layers, 7088338 parameters, 0 gradients, 16.0 GFLOPs\n",
            "\u001b[34m\u001b[1mval: \u001b[0mScanning '/content/drive/MyDrive/data/SW15/test.cache' images and labels... 1000 found, 0 missing, 2 empty, 0 corrupted: 100% 1000/1000 [00:00<?, ?it/s]\n",
            "               Class     Images     Labels          P          R     mAP@.5 mAP@.5:.95: 100% 32/32 [00:18<00:00,  1.72it/s]\n",
            "                 all       1000      10489      0.521      0.139      0.331      0.191\n",
            "               truck       1000        451          0          0          0          0\n",
            "          tree_trunk       1000       1414      0.808      0.199      0.502      0.247\n",
            "        traffic_sign       1000        473      0.684     0.0275      0.353      0.203\n",
            "       traffic_light       1000        336      0.438     0.0417      0.233      0.106\n",
            "        potted_plant       1000        283      0.722     0.0459      0.386      0.194\n",
            "                pole       1000       1113      0.836      0.137      0.489      0.249\n",
            "              person       1000       1421      0.861      0.476      0.686      0.395\n",
            "     movable_signage       1000        479      0.678      0.123      0.404      0.268\n",
            "          motorcycle       1000        182      0.786     0.0604      0.422      0.283\n",
            "               chair       1000         84          0          0          0          0\n",
            "                 car       1000       2960      0.884      0.517      0.713      0.491\n",
            "                 bus       1000        157      0.353      0.153      0.227      0.154\n",
            "             bollard       1000        808      0.762      0.309      0.546      0.278\n",
            "             bicycle       1000        214          0          0          0          0\n",
            "               bench       1000        114          0          0          0          0\n",
            "Speed: 0.3ms pre-process, 3.2ms inference, 1.2ms NMS per image at shape (32, 3, 640, 640)\n",
            "Results saved to \u001b[1mruns/val/exp\u001b[0m\n"
          ]
        }
      ]
    },
    {
      "cell_type": "code",
      "metadata": {
        "id": "yOSsHOZoMTbP",
        "colab": {
          "base_uri": "https://localhost:8080/"
        },
        "outputId": "955a6542-666b-4524-8cfb-13f9dcc6b6d7"
      },
      "source": [
        "run_val(15)"
      ],
      "execution_count": null,
      "outputs": [
        {
          "output_type": "stream",
          "name": "stdout",
          "text": [
            "Set val to /content/drive/MyDrive/data/SW15/test\n",
            "\u001b[34m\u001b[1mval: \u001b[0mdata=/content/drive/MyDrive/data/SW15/validate.yaml, weights=['/content/drive/MyDrive/data/SW15/runs/train/train_15/weights/best.pt'], batch_size=32, imgsz=640, conf_thres=0.5, iou_thres=0.6, task=val, device=, single_cls=False, augment=False, verbose=False, save_txt=False, save_hybrid=False, save_conf=False, save_json=False, project=runs/val, name=exp, exist_ok=False, half=False, dnn=False\n",
            "WARNING: confidence threshold 0.5 >> 0.001 will produce invalid mAP values.\n",
            "YOLOv5 🚀 v6.0-114-ga4207a2 torch 1.10.0+cu111 CUDA:0 (Tesla P100-PCIE-16GB, 16281MiB)\n",
            "\n",
            "Fusing layers... \n",
            "Model Summary: 213 layers, 7088338 parameters, 0 gradients, 16.0 GFLOPs\n",
            "\u001b[34m\u001b[1mval: \u001b[0mScanning '/content/drive/MyDrive/data/SW15/test.cache' images and labels... 1000 found, 0 missing, 2 empty, 0 corrupted: 100% 1000/1000 [00:00<?, ?it/s]\n",
            "               Class     Images     Labels          P          R     mAP@.5 mAP@.5:.95: 100% 32/32 [00:18<00:00,  1.70it/s]\n",
            "                 all       1000      10489      0.504      0.156      0.329      0.184\n",
            "               truck       1000        451          0          0          0          0\n",
            "          tree_trunk       1000       1414      0.669      0.294      0.473      0.222\n",
            "        traffic_sign       1000        473        0.6    0.00634      0.303      0.151\n",
            "       traffic_light       1000        336      0.684     0.0387      0.362      0.158\n",
            "        potted_plant       1000        283        0.5      0.053      0.282       0.13\n",
            "                pole       1000       1113      0.821      0.181      0.498      0.245\n",
            "              person       1000       1421      0.865       0.49      0.698      0.422\n",
            "     movable_signage       1000        479       0.77      0.119      0.435      0.276\n",
            "          motorcycle       1000        182      0.688     0.0604      0.374      0.258\n",
            "               chair       1000         84          0          0          0          0\n",
            "                 car       1000       2960      0.855      0.546      0.714      0.449\n",
            "                 bus       1000        157      0.393      0.153      0.235      0.167\n",
            "             bollard       1000        808      0.714      0.395      0.562      0.283\n",
            "             bicycle       1000        214          0          0          0          0\n",
            "               bench       1000        114          0          0          0          0\n",
            "Speed: 0.3ms pre-process, 3.2ms inference, 1.2ms NMS per image at shape (32, 3, 640, 640)\n",
            "Results saved to \u001b[1mruns/val/exp\u001b[0m\n"
          ]
        }
      ]
    },
    {
      "cell_type": "code",
      "metadata": {
        "id": "_vQJwm10MUMJ",
        "colab": {
          "base_uri": "https://localhost:8080/"
        },
        "outputId": "4c228937-32a8-4d88-e7d4-c1050b4ce34b"
      },
      "source": [
        "run_val(16)"
      ],
      "execution_count": null,
      "outputs": [
        {
          "output_type": "stream",
          "name": "stdout",
          "text": [
            "Set val to /content/drive/MyDrive/data/SW15/test\n",
            "\u001b[34m\u001b[1mval: \u001b[0mdata=/content/drive/MyDrive/data/SW15/validate.yaml, weights=['/content/drive/MyDrive/data/SW15/runs/train/train_16/weights/best.pt'], batch_size=32, imgsz=640, conf_thres=0.5, iou_thres=0.6, task=val, device=, single_cls=False, augment=False, verbose=False, save_txt=False, save_hybrid=False, save_conf=False, save_json=False, project=runs/val, name=exp, exist_ok=False, half=False, dnn=False\n",
            "WARNING: confidence threshold 0.5 >> 0.001 will produce invalid mAP values.\n",
            "YOLOv5 🚀 v6.0-114-ga4207a2 torch 1.10.0+cu111 CUDA:0 (Tesla P100-PCIE-16GB, 16281MiB)\n",
            "\n",
            "Fusing layers... \n",
            "Model Summary: 213 layers, 7088338 parameters, 0 gradients, 16.0 GFLOPs\n",
            "\u001b[34m\u001b[1mval: \u001b[0mScanning '/content/drive/MyDrive/data/SW15/test.cache' images and labels... 1000 found, 0 missing, 2 empty, 0 corrupted: 100% 1000/1000 [00:00<?, ?it/s]\n",
            "               Class     Images     Labels          P          R     mAP@.5 mAP@.5:.95: 100% 32/32 [00:19<00:00,  1.68it/s]\n",
            "                 all       1000      10489      0.504      0.147      0.326      0.182\n",
            "               truck       1000        451          0          0          0          0\n",
            "          tree_trunk       1000       1414      0.768      0.199      0.476      0.217\n",
            "        traffic_sign       1000        473        0.6    0.00634      0.302      0.211\n",
            "       traffic_light       1000        336      0.556     0.0298      0.293      0.137\n",
            "        potted_plant       1000        283      0.543     0.0883       0.32      0.166\n",
            "                pole       1000       1113      0.848      0.136       0.49      0.235\n",
            "              person       1000       1421      0.905      0.438      0.681      0.394\n",
            "     movable_signage       1000        479      0.714      0.157      0.427      0.243\n",
            "          motorcycle       1000        182          0          0          0          0\n",
            "               chair       1000         84          0          0          0          0\n",
            "                 car       1000       2960        0.9      0.504       0.71      0.465\n",
            "                 bus       1000        157      0.397      0.197       0.28       0.19\n",
            "             bollard       1000        808      0.733      0.329      0.535      0.264\n",
            "             bicycle       1000        214        0.6      0.126      0.368      0.202\n",
            "               bench       1000        114          0          0          0          0\n",
            "Speed: 0.2ms pre-process, 3.2ms inference, 1.3ms NMS per image at shape (32, 3, 640, 640)\n",
            "Results saved to \u001b[1mruns/val/exp\u001b[0m\n"
          ]
        }
      ]
    },
    {
      "cell_type": "code",
      "metadata": {
        "id": "pcItyUneMU-v",
        "colab": {
          "base_uri": "https://localhost:8080/"
        },
        "outputId": "d4386cd9-6e63-46cd-a528-eb20a53f61f7"
      },
      "source": [
        "run_val(17)"
      ],
      "execution_count": null,
      "outputs": [
        {
          "output_type": "stream",
          "name": "stdout",
          "text": [
            "Set val to /content/drive/MyDrive/data/SW15/test\n",
            "\u001b[34m\u001b[1mval: \u001b[0mdata=/content/drive/MyDrive/data/SW15/validate.yaml, weights=['/content/drive/MyDrive/data/SW15/runs/train/train_17/weights/best.pt'], batch_size=32, imgsz=640, conf_thres=0.5, iou_thres=0.6, task=val, device=, single_cls=False, augment=False, verbose=False, save_txt=False, save_hybrid=False, save_conf=False, save_json=False, project=runs/val, name=exp, exist_ok=False, half=False, dnn=False\n",
            "WARNING: confidence threshold 0.5 >> 0.001 will produce invalid mAP values.\n",
            "YOLOv5 🚀 v6.0-114-ga4207a2 torch 1.10.0+cu111 CUDA:0 (Tesla P100-PCIE-16GB, 16281MiB)\n",
            "\n",
            "Fusing layers... \n",
            "Model Summary: 213 layers, 7088338 parameters, 0 gradients, 16.0 GFLOPs\n",
            "\u001b[34m\u001b[1mval: \u001b[0mScanning '/content/drive/MyDrive/data/SW15/test.cache' images and labels... 1000 found, 0 missing, 2 empty, 0 corrupted: 100% 1000/1000 [00:00<?, ?it/s]\n",
            "               Class     Images     Labels          P          R     mAP@.5 mAP@.5:.95: 100% 32/32 [00:18<00:00,  1.70it/s]\n",
            "                 all       1000      10489      0.535      0.194      0.363      0.195\n",
            "               truck       1000        451      0.654      0.113      0.367      0.222\n",
            "          tree_trunk       1000       1414      0.679      0.299      0.487      0.211\n",
            "        traffic_sign       1000        473      0.554     0.0655      0.301      0.149\n",
            "       traffic_light       1000        336      0.375    0.00893      0.192     0.0707\n",
            "        potted_plant       1000        283      0.577      0.159      0.341      0.151\n",
            "                pole       1000       1113       0.64      0.332      0.474       0.23\n",
            "              person       1000       1421      0.867      0.464      0.681      0.397\n",
            "     movable_signage       1000        479      0.657      0.248      0.449      0.269\n",
            "          motorcycle       1000        182          1      0.022      0.511      0.294\n",
            "               chair       1000         84          0          0          0          0\n",
            "                 car       1000       2960      0.804      0.597      0.721      0.465\n",
            "                 bus       1000        157          0          0          0          0\n",
            "             bollard       1000        808      0.739       0.27      0.504      0.259\n",
            "             bicycle       1000        214       0.48      0.332       0.41      0.201\n",
            "               bench       1000        114          0          0          0          0\n",
            "Speed: 0.3ms pre-process, 3.2ms inference, 1.1ms NMS per image at shape (32, 3, 640, 640)\n",
            "Results saved to \u001b[1mruns/val/exp\u001b[0m\n"
          ]
        }
      ]
    },
    {
      "cell_type": "code",
      "metadata": {
        "id": "0p02vQyXMWCC",
        "colab": {
          "base_uri": "https://localhost:8080/"
        },
        "outputId": "dbbbb097-cb25-48e0-e248-d643b3c824f3"
      },
      "source": [
        "run_val(18)"
      ],
      "execution_count": null,
      "outputs": [
        {
          "output_type": "stream",
          "name": "stdout",
          "text": [
            "Set val to /content/drive/MyDrive/data/SW15/test\n",
            "\u001b[34m\u001b[1mval: \u001b[0mdata=/content/drive/MyDrive/data/SW15/validate.yaml, weights=['/content/drive/MyDrive/data/SW15/runs/train/train_18/weights/best.pt'], batch_size=32, imgsz=640, conf_thres=0.5, iou_thres=0.6, task=val, device=, single_cls=False, augment=False, verbose=False, save_txt=False, save_hybrid=False, save_conf=False, save_json=False, project=runs/val, name=exp, exist_ok=False, half=False, dnn=False\n",
            "WARNING: confidence threshold 0.5 >> 0.001 will produce invalid mAP values.\n",
            "YOLOv5 🚀 v6.0-114-ga4207a2 torch 1.10.0+cu111 CUDA:0 (Tesla P100-PCIE-16GB, 16281MiB)\n",
            "\n",
            "Fusing layers... \n",
            "Model Summary: 213 layers, 7088338 parameters, 0 gradients, 16.0 GFLOPs\n",
            "\u001b[34m\u001b[1mval: \u001b[0mScanning '/content/drive/MyDrive/data/SW15/test.cache' images and labels... 1000 found, 0 missing, 2 empty, 0 corrupted: 100% 1000/1000 [00:00<?, ?it/s]\n",
            "               Class     Images     Labels          P          R     mAP@.5 mAP@.5:.95: 100% 32/32 [00:18<00:00,  1.71it/s]\n",
            "                 all       1000      10489      0.589       0.18      0.386      0.189\n",
            "               truck       1000        451      0.622      0.135      0.361      0.163\n",
            "          tree_trunk       1000       1414      0.732       0.21       0.46        0.2\n",
            "        traffic_sign       1000        473      0.652     0.0317      0.344      0.188\n",
            "       traffic_light       1000        336      0.941     0.0476      0.494      0.191\n",
            "        potted_plant       1000        283      0.673      0.124      0.389      0.164\n",
            "                pole       1000       1113      0.797      0.166      0.477      0.225\n",
            "              person       1000       1421      0.837       0.49      0.688      0.393\n",
            "     movable_signage       1000        479      0.696      0.163      0.433      0.216\n",
            "          motorcycle       1000        182      0.833      0.137      0.488      0.229\n",
            "               chair       1000         84          0          0          0          0\n",
            "                 car       1000       2960        0.8      0.557      0.701      0.409\n",
            "                 bus       1000        157          0          0          0          0\n",
            "             bollard       1000        808      0.645      0.317      0.476      0.239\n",
            "             bicycle       1000        214        0.6      0.322       0.48      0.225\n",
            "               bench       1000        114          0          0          0          0\n",
            "Speed: 0.1ms pre-process, 3.4ms inference, 1.2ms NMS per image at shape (32, 3, 640, 640)\n",
            "Results saved to \u001b[1mruns/val/exp\u001b[0m\n"
          ]
        }
      ]
    },
    {
      "cell_type": "code",
      "metadata": {
        "id": "6jGxoRC9MW6q",
        "colab": {
          "base_uri": "https://localhost:8080/"
        },
        "outputId": "29ce1d36-9271-486d-b3fb-0a2c74c16d1b"
      },
      "source": [
        "run_val(19)"
      ],
      "execution_count": null,
      "outputs": [
        {
          "output_type": "stream",
          "name": "stdout",
          "text": [
            "Set val to /content/drive/MyDrive/data/SW15/test\n",
            "\u001b[34m\u001b[1mval: \u001b[0mdata=/content/drive/MyDrive/data/SW15/validate.yaml, weights=['/content/drive/MyDrive/data/SW15/runs/train/train_19/weights/best.pt'], batch_size=32, imgsz=640, conf_thres=0.5, iou_thres=0.6, task=val, device=, single_cls=False, augment=False, verbose=False, save_txt=False, save_hybrid=False, save_conf=False, save_json=False, project=runs/val, name=exp, exist_ok=False, half=False, dnn=False\n",
            "WARNING: confidence threshold 0.5 >> 0.001 will produce invalid mAP values.\n",
            "YOLOv5 🚀 v6.0-114-ga4207a2 torch 1.10.0+cu111 CUDA:0 (Tesla P100-PCIE-16GB, 16281MiB)\n",
            "\n",
            "Fusing layers... \n",
            "Model Summary: 213 layers, 7088338 parameters, 0 gradients, 16.0 GFLOPs\n",
            "\u001b[34m\u001b[1mval: \u001b[0mScanning '/content/drive/MyDrive/data/SW15/test.cache' images and labels... 1000 found, 0 missing, 2 empty, 0 corrupted: 100% 1000/1000 [00:00<?, ?it/s]\n",
            "               Class     Images     Labels          P          R     mAP@.5 mAP@.5:.95: 100% 32/32 [00:18<00:00,  1.72it/s]\n",
            "                 all       1000      10489      0.586      0.194      0.391      0.215\n",
            "               truck       1000        451      0.638      0.133      0.365      0.238\n",
            "          tree_trunk       1000       1414      0.768      0.251      0.507      0.252\n",
            "        traffic_sign       1000        473      0.637      0.123      0.375      0.219\n",
            "       traffic_light       1000        336      0.727     0.0238      0.377      0.146\n",
            "        potted_plant       1000        283      0.495      0.166      0.318      0.151\n",
            "                pole       1000       1113      0.839      0.121      0.476      0.236\n",
            "              person       1000       1421      0.867        0.5      0.703      0.415\n",
            "     movable_signage       1000        479      0.706      0.234       0.48      0.286\n",
            "          motorcycle       1000        182      0.842     0.0879      0.468      0.272\n",
            "               chair       1000         84          0          0          0          0\n",
            "                 car       1000       2960      0.838      0.585      0.727      0.475\n",
            "                 bus       1000        157          0          0          0          0\n",
            "             bollard       1000        808      0.646      0.366      0.507      0.262\n",
            "             bicycle       1000        214      0.779      0.313      0.557      0.277\n",
            "               bench       1000        114          0          0          0          0\n",
            "Speed: 0.3ms pre-process, 3.3ms inference, 1.1ms NMS per image at shape (32, 3, 640, 640)\n",
            "Results saved to \u001b[1mruns/val/exp\u001b[0m\n"
          ]
        }
      ]
    },
    {
      "cell_type": "code",
      "metadata": {
        "id": "Jnv8xwonMXwL",
        "colab": {
          "base_uri": "https://localhost:8080/"
        },
        "outputId": "3a4068d6-9747-4a9a-9471-639c5f36dc33"
      },
      "source": [
        "run_val(20)"
      ],
      "execution_count": null,
      "outputs": [
        {
          "output_type": "stream",
          "name": "stdout",
          "text": [
            "Set val to /content/drive/MyDrive/data/SW15/test\n",
            "\u001b[34m\u001b[1mval: \u001b[0mdata=/content/drive/MyDrive/data/SW15/validate.yaml, weights=['/content/drive/MyDrive/data/SW15/runs/train/train_20/weights/best.pt'], batch_size=32, imgsz=640, conf_thres=0.5, iou_thres=0.6, task=val, device=, single_cls=False, augment=False, verbose=False, save_txt=False, save_hybrid=False, save_conf=False, save_json=False, project=runs/val, name=exp, exist_ok=False, half=False, dnn=False\n",
            "WARNING: confidence threshold 0.5 >> 0.001 will produce invalid mAP values.\n",
            "YOLOv5 🚀 v6.0-114-ga4207a2 torch 1.10.0+cu111 CUDA:0 (Tesla P100-PCIE-16GB, 16281MiB)\n",
            "\n",
            "Fusing layers... \n",
            "Model Summary: 213 layers, 7088338 parameters, 0 gradients, 16.0 GFLOPs\n",
            "\u001b[34m\u001b[1mval: \u001b[0mScanning '/content/drive/MyDrive/data/SW15/test.cache' images and labels... 1000 found, 0 missing, 2 empty, 0 corrupted: 100% 1000/1000 [00:00<?, ?it/s]\n",
            "               Class     Images     Labels          P          R     mAP@.5 mAP@.5:.95: 100% 32/32 [00:18<00:00,  1.70it/s]\n",
            "                 all       1000      10489      0.564      0.222      0.395      0.205\n",
            "               truck       1000        451      0.636      0.182      0.392      0.248\n",
            "          tree_trunk       1000       1414       0.68      0.366      0.516      0.228\n",
            "        traffic_sign       1000        473      0.765     0.0825      0.423      0.241\n",
            "       traffic_light       1000        336       0.75     0.0357      0.391      0.175\n",
            "        potted_plant       1000        283      0.608      0.208      0.392      0.159\n",
            "                pole       1000       1113      0.757       0.26      0.505      0.247\n",
            "              person       1000       1421      0.841      0.474      0.677      0.395\n",
            "     movable_signage       1000        479      0.655       0.19      0.418      0.232\n",
            "          motorcycle       1000        182      0.815      0.242      0.538      0.284\n",
            "               chair       1000         84          0          0          0          0\n",
            "                 car       1000       2960      0.808      0.621      0.734      0.458\n",
            "                 bus       1000        157          0          0          0          0\n",
            "             bollard       1000        808      0.575      0.304      0.438      0.197\n",
            "             bicycle       1000        214      0.577      0.369      0.504      0.209\n",
            "               bench       1000        114          0          0          0          0\n",
            "Speed: 0.3ms pre-process, 3.2ms inference, 1.3ms NMS per image at shape (32, 3, 640, 640)\n",
            "Results saved to \u001b[1mruns/val/exp\u001b[0m\n"
          ]
        }
      ]
    },
    {
      "cell_type": "code",
      "metadata": {
        "id": "3vD8CoP8O168",
        "colab": {
          "base_uri": "https://localhost:8080/"
        },
        "outputId": "64a0c337-85d0-43c5-b08c-3850dcfccaf7"
      },
      "source": [
        "run_val(21)"
      ],
      "execution_count": null,
      "outputs": [
        {
          "output_type": "stream",
          "name": "stdout",
          "text": [
            "Set val to /content/drive/MyDrive/data/SW15/test\n",
            "\u001b[34m\u001b[1mval: \u001b[0mdata=/content/drive/MyDrive/data/SW15/validate.yaml, weights=['/content/drive/MyDrive/data/SW15/runs/train/train_21/weights/best.pt'], batch_size=32, imgsz=640, conf_thres=0.5, iou_thres=0.6, task=val, device=, single_cls=False, augment=False, verbose=False, save_txt=False, save_hybrid=False, save_conf=False, save_json=False, project=runs/val, name=exp, exist_ok=False, half=False, dnn=False\n",
            "WARNING: confidence threshold 0.5 >> 0.001 will produce invalid mAP values.\n",
            "YOLOv5 🚀 v6.0-114-ga4207a2 torch 1.10.0+cu111 CUDA:0 (Tesla P100-PCIE-16GB, 16281MiB)\n",
            "\n",
            "Fusing layers... \n",
            "Model Summary: 213 layers, 7088338 parameters, 0 gradients, 16.0 GFLOPs\n",
            "\u001b[34m\u001b[1mval: \u001b[0mScanning '/content/drive/MyDrive/data/SW15/test.cache' images and labels... 1000 found, 0 missing, 2 empty, 0 corrupted: 100% 1000/1000 [00:00<?, ?it/s]\n",
            "               Class     Images     Labels          P          R     mAP@.5 mAP@.5:.95: 100% 32/32 [00:18<00:00,  1.72it/s]\n",
            "                 all       1000      10489      0.561      0.196      0.377      0.213\n",
            "               truck       1000        451       0.66      0.237      0.419      0.285\n",
            "          tree_trunk       1000       1414       0.69      0.268       0.47      0.209\n",
            "        traffic_sign       1000        473      0.828     0.0507      0.441      0.264\n",
            "       traffic_light       1000        336          0          0          0          0\n",
            "        potted_plant       1000        283      0.706       0.17      0.431      0.196\n",
            "                pole       1000       1113      0.783      0.181      0.469      0.235\n",
            "              person       1000       1421      0.851      0.462      0.678       0.39\n",
            "     movable_signage       1000        479      0.762        0.2      0.475      0.283\n",
            "          motorcycle       1000        182      0.671      0.324      0.499      0.299\n",
            "               chair       1000         84          0          0          0          0\n",
            "                 car       1000       2960      0.877      0.568      0.735       0.49\n",
            "                 bus       1000        157          0          0          0          0\n",
            "             bollard       1000        808      0.587      0.391      0.501      0.244\n",
            "             bicycle       1000        214          1     0.0841      0.542      0.297\n",
            "               bench       1000        114          0          0          0          0\n",
            "Speed: 0.2ms pre-process, 3.2ms inference, 1.3ms NMS per image at shape (32, 3, 640, 640)\n",
            "Results saved to \u001b[1mruns/val/exp\u001b[0m\n"
          ]
        }
      ]
    },
    {
      "cell_type": "code",
      "metadata": {
        "id": "4YaP_RTcO3Sa",
        "colab": {
          "base_uri": "https://localhost:8080/"
        },
        "outputId": "ed29e75f-a32f-4794-908d-b2b21030517e"
      },
      "source": [
        "run_val(22)"
      ],
      "execution_count": null,
      "outputs": [
        {
          "output_type": "stream",
          "name": "stdout",
          "text": [
            "Set val to /content/drive/MyDrive/data/SW15/test\n",
            "\u001b[34m\u001b[1mval: \u001b[0mdata=/content/drive/MyDrive/data/SW15/validate.yaml, weights=['/content/drive/MyDrive/data/SW15/runs/train/train_22/weights/best.pt'], batch_size=32, imgsz=640, conf_thres=0.5, iou_thres=0.6, task=val, device=, single_cls=False, augment=False, verbose=False, save_txt=False, save_hybrid=False, save_conf=False, save_json=False, project=runs/val, name=exp, exist_ok=False, half=False, dnn=False\n",
            "WARNING: confidence threshold 0.5 >> 0.001 will produce invalid mAP values.\n",
            "YOLOv5 🚀 v6.0-114-ga4207a2 torch 1.10.0+cu111 CUDA:0 (Tesla P100-PCIE-16GB, 16281MiB)\n",
            "\n",
            "Fusing layers... \n",
            "Model Summary: 213 layers, 7088338 parameters, 0 gradients, 16.0 GFLOPs\n",
            "\u001b[34m\u001b[1mval: \u001b[0mScanning '/content/drive/MyDrive/data/SW15/test.cache' images and labels... 1000 found, 0 missing, 2 empty, 0 corrupted: 100% 1000/1000 [00:00<?, ?it/s]\n",
            "               Class     Images     Labels          P          R     mAP@.5 mAP@.5:.95: 100% 32/32 [00:18<00:00,  1.70it/s]\n",
            "                 all       1000      10489      0.616        0.2      0.408      0.227\n",
            "               truck       1000        451      0.654      0.226      0.418      0.259\n",
            "          tree_trunk       1000       1414      0.735       0.26      0.488      0.223\n",
            "        traffic_sign       1000        473      0.762     0.0677      0.415      0.251\n",
            "       traffic_light       1000        336        0.9     0.0268      0.465      0.205\n",
            "        potted_plant       1000        283      0.602      0.187      0.371      0.172\n",
            "                pole       1000       1113      0.816      0.103      0.459      0.253\n",
            "              person       1000       1421      0.875      0.488      0.701      0.425\n",
            "     movable_signage       1000        479      0.688      0.276      0.483      0.287\n",
            "          motorcycle       1000        182      0.661      0.418      0.558      0.295\n",
            "               chair       1000         84          0          0          0          0\n",
            "                 car       1000       2960       0.84      0.576      0.719      0.459\n",
            "                 bus       1000        157          0          0          0          0\n",
            "             bollard       1000        808      0.703      0.371      0.545      0.273\n",
            "             bicycle       1000        214          1    0.00467      0.502      0.301\n",
            "               bench       1000        114          0          0          0          0\n",
            "Speed: 0.3ms pre-process, 3.2ms inference, 1.4ms NMS per image at shape (32, 3, 640, 640)\n",
            "Results saved to \u001b[1mruns/val/exp\u001b[0m\n"
          ]
        }
      ]
    },
    {
      "cell_type": "code",
      "metadata": {
        "id": "yoH4-iyQO4Kk",
        "colab": {
          "base_uri": "https://localhost:8080/"
        },
        "outputId": "4d69bfb2-ec57-45cf-8b91-6dc3bf18acaa"
      },
      "source": [
        "run_val(23)"
      ],
      "execution_count": null,
      "outputs": [
        {
          "output_type": "stream",
          "name": "stdout",
          "text": [
            "Set val to /content/drive/MyDrive/data/SW15/test\n",
            "\u001b[34m\u001b[1mval: \u001b[0mdata=/content/drive/MyDrive/data/SW15/validate.yaml, weights=['/content/drive/MyDrive/data/SW15/runs/train/train_23/weights/best.pt'], batch_size=32, imgsz=640, conf_thres=0.5, iou_thres=0.6, task=val, device=, single_cls=False, augment=False, verbose=False, save_txt=False, save_hybrid=False, save_conf=False, save_json=False, project=runs/val, name=exp, exist_ok=False, half=False, dnn=False\n",
            "WARNING: confidence threshold 0.5 >> 0.001 will produce invalid mAP values.\n",
            "YOLOv5 🚀 v6.0-114-ga4207a2 torch 1.10.0+cu111 CUDA:0 (Tesla P100-PCIE-16GB, 16281MiB)\n",
            "\n",
            "Fusing layers... \n",
            "Model Summary: 213 layers, 7088338 parameters, 0 gradients, 16.0 GFLOPs\n",
            "\u001b[34m\u001b[1mval: \u001b[0mScanning '/content/drive/MyDrive/data/SW15/test.cache' images and labels... 1000 found, 0 missing, 2 empty, 0 corrupted: 100% 1000/1000 [00:00<?, ?it/s]\n",
            "               Class     Images     Labels          P          R     mAP@.5 mAP@.5:.95: 100% 32/32 [00:18<00:00,  1.71it/s]\n",
            "                 all       1000      10489      0.618      0.191      0.407      0.221\n",
            "               truck       1000        451      0.629      0.222      0.404      0.244\n",
            "          tree_trunk       1000       1414      0.778      0.251      0.512      0.247\n",
            "        traffic_sign       1000        473      0.811     0.0634      0.438      0.274\n",
            "       traffic_light       1000        336        0.8     0.0238      0.411      0.164\n",
            "        potted_plant       1000        283      0.541      0.117      0.324      0.179\n",
            "                pole       1000       1113      0.864     0.0916      0.475      0.257\n",
            "              person       1000       1421      0.878      0.501      0.708      0.432\n",
            "     movable_signage       1000        479       0.73      0.215      0.484       0.29\n",
            "          motorcycle       1000        182       0.66      0.374       0.53      0.298\n",
            "               chair       1000         84          0          0          0          0\n",
            "                 car       1000       2960      0.866      0.596      0.745      0.491\n",
            "                 bus       1000        157          0          0          0          0\n",
            "             bollard       1000        808      0.717      0.402      0.575      0.293\n",
            "             bicycle       1000        214          1    0.00467      0.502      0.151\n",
            "               bench       1000        114          0          0          0          0\n",
            "Speed: 0.3ms pre-process, 3.2ms inference, 1.4ms NMS per image at shape (32, 3, 640, 640)\n",
            "Results saved to \u001b[1mruns/val/exp\u001b[0m\n"
          ]
        }
      ]
    },
    {
      "cell_type": "code",
      "metadata": {
        "id": "cZ9yniTNO5Va",
        "colab": {
          "base_uri": "https://localhost:8080/"
        },
        "outputId": "16a4c3d1-f736-4c5a-9847-1c2c10429556"
      },
      "source": [
        "run_val(24)"
      ],
      "execution_count": null,
      "outputs": [
        {
          "output_type": "stream",
          "name": "stdout",
          "text": [
            "Set val to /content/drive/MyDrive/data/SW15/test\n",
            "\u001b[34m\u001b[1mval: \u001b[0mdata=/content/drive/MyDrive/data/SW15/validate.yaml, weights=['/content/drive/MyDrive/data/SW15/runs/train/train_24/weights/best.pt'], batch_size=32, imgsz=640, conf_thres=0.5, iou_thres=0.6, task=val, device=, single_cls=False, augment=False, verbose=False, save_txt=False, save_hybrid=False, save_conf=False, save_json=False, project=runs/val, name=exp, exist_ok=False, half=False, dnn=False\n",
            "WARNING: confidence threshold 0.5 >> 0.001 will produce invalid mAP values.\n",
            "YOLOv5 🚀 v6.0-114-ga4207a2 torch 1.10.0+cu111 CUDA:0 (Tesla P100-PCIE-16GB, 16281MiB)\n",
            "\n",
            "Fusing layers... \n",
            "Model Summary: 213 layers, 7088338 parameters, 0 gradients, 16.0 GFLOPs\n",
            "\u001b[34m\u001b[1mval: \u001b[0mScanning '/content/drive/MyDrive/data/SW15/test.cache' images and labels... 1000 found, 0 missing, 2 empty, 0 corrupted: 100% 1000/1000 [00:00<?, ?it/s]\n",
            "               Class     Images     Labels          P          R     mAP@.5 mAP@.5:.95: 100% 32/32 [00:18<00:00,  1.72it/s]\n",
            "                 all       1000      10489      0.637      0.194      0.416      0.236\n",
            "               truck       1000        451      0.688      0.166       0.41      0.288\n",
            "          tree_trunk       1000       1414      0.803      0.242      0.521      0.263\n",
            "        traffic_sign       1000        473      0.792     0.0402      0.417      0.237\n",
            "       traffic_light       1000        336          1     0.0179      0.509      0.247\n",
            "        potted_plant       1000        283      0.589      0.187       0.37      0.194\n",
            "                pole       1000       1113      0.781      0.257      0.509      0.244\n",
            "              person       1000       1421      0.906      0.467      0.697      0.435\n",
            "     movable_signage       1000        479      0.757      0.234        0.5      0.318\n",
            "          motorcycle       1000        182      0.663      0.368      0.527       0.31\n",
            "               chair       1000         84          0          0          0          0\n",
            "                 car       1000       2960      0.884      0.553      0.727      0.514\n",
            "                 bus       1000        157          0          0          0          0\n",
            "             bollard       1000        808      0.686      0.376      0.544      0.296\n",
            "             bicycle       1000        214          1    0.00467      0.502      0.201\n",
            "               bench       1000        114          0          0          0          0\n",
            "Speed: 0.2ms pre-process, 3.2ms inference, 1.3ms NMS per image at shape (32, 3, 640, 640)\n",
            "Results saved to \u001b[1mruns/val/exp\u001b[0m\n"
          ]
        }
      ]
    },
    {
      "cell_type": "markdown",
      "metadata": {
        "id": "3VSFSPcRc2fg"
      },
      "source": [
        "# Validate with an oversampled test dataset"
      ]
    },
    {
      "cell_type": "code",
      "metadata": {
        "id": "YncBrCcGdIW-",
        "colab": {
          "base_uri": "https://localhost:8080/"
        },
        "outputId": "98295fb4-7ffe-4f39-e626-189ff573eef2"
      },
      "source": [
        "run_val(0, test_folder=DATA_ROOT+\"test_over\")"
      ],
      "execution_count": null,
      "outputs": [
        {
          "output_type": "stream",
          "name": "stdout",
          "text": [
            "Set val to /content/drive/MyDrive/data/SW15/test_over\n",
            "\u001b[34m\u001b[1mval: \u001b[0mdata=/content/drive/MyDrive/data/SW15/validate.yaml, weights=['/content/drive/MyDrive/data/SW15/runs/train/train_0/weights/best.pt'], batch_size=32, imgsz=640, conf_thres=0.5, iou_thres=0.6, task=val, device=, single_cls=False, augment=False, verbose=False, save_txt=False, save_hybrid=False, save_conf=False, save_json=False, project=runs/val, name=exp, exist_ok=False, half=False, dnn=False\n",
            "WARNING: confidence threshold 0.5 >> 0.001 will produce invalid mAP values.\n",
            "YOLOv5 🚀 v6.0-114-ga4207a2 torch 1.10.0+cu111 CUDA:0 (Tesla P100-PCIE-16GB, 16281MiB)\n",
            "\n",
            "Fusing layers... \n",
            "Model Summary: 213 layers, 7088338 parameters, 0 gradients, 16.0 GFLOPs\n",
            "\u001b[34m\u001b[1mval: \u001b[0mScanning '/content/drive/MyDrive/data/SW15/test_over.cache' images and labels... 1000 found, 0 missing, 0 empty, 0 corrupted: 100% 1000/1000 [00:00<?, ?it/s]\n",
            "\u001b[34m\u001b[1mval: \u001b[0mWARNING: /content/drive/MyDrive/data/SW15/test_over/MP_SEL_018950.jpg: 1 duplicate labels removed\n",
            "               Class     Images     Labels          P          R     mAP@.5 mAP@.5:.95: 100% 32/32 [00:18<00:00,  1.75it/s]\n",
            "                 all       1000      13562      0.146      0.014     0.0802     0.0444\n",
            "               truck       1000        374          0          0          0          0\n",
            "          tree_trunk       1000       1977       0.71     0.0334       0.37      0.152\n",
            "        traffic_sign       1000        453          0          0          0          0\n",
            "       traffic_light       1000        253          0          0          0          0\n",
            "        potted_plant       1000        352          0          0          0          0\n",
            "                pole       1000       1036          0          0          0          0\n",
            "              person       1000       2243          0          0          0          0\n",
            "     movable_signage       1000        799          0          0          0          0\n",
            "          motorcycle       1000        230          0          0          0          0\n",
            "               chair       1000       1003          0          0          0          0\n",
            "                 car       1000       2375      0.886      0.112      0.499      0.308\n",
            "                 bus       1000        177          0          0          0          0\n",
            "             bollard       1000        979          0          0          0          0\n",
            "             bicycle       1000        307          0          0          0          0\n",
            "               bench       1000       1004        0.6     0.0657      0.334      0.205\n",
            "Speed: 0.1ms pre-process, 3.2ms inference, 0.9ms NMS per image at shape (32, 3, 640, 640)\n",
            "Results saved to \u001b[1mruns/val/exp\u001b[0m\n"
          ]
        }
      ]
    },
    {
      "cell_type": "code",
      "metadata": {
        "id": "HzyTLQYqeB9V",
        "colab": {
          "base_uri": "https://localhost:8080/"
        },
        "outputId": "f43011fb-c5c5-42cc-dccb-d0ee4ef6e476"
      },
      "source": [
        "run_val(1, test_folder=DATA_ROOT+\"test_over\")"
      ],
      "execution_count": null,
      "outputs": [
        {
          "output_type": "stream",
          "name": "stdout",
          "text": [
            "Set val to /content/drive/MyDrive/data/SW15/test_over\n",
            "\u001b[34m\u001b[1mval: \u001b[0mdata=/content/drive/MyDrive/data/SW15/validate.yaml, weights=['/content/drive/MyDrive/data/SW15/runs/train/train_1/weights/best.pt'], batch_size=32, imgsz=640, conf_thres=0.5, iou_thres=0.6, task=val, device=, single_cls=False, augment=False, verbose=False, save_txt=False, save_hybrid=False, save_conf=False, save_json=False, project=runs/val, name=exp, exist_ok=False, half=False, dnn=False\n",
            "WARNING: confidence threshold 0.5 >> 0.001 will produce invalid mAP values.\n",
            "YOLOv5 🚀 v6.0-114-ga4207a2 torch 1.10.0+cu111 CUDA:0 (Tesla P100-PCIE-16GB, 16281MiB)\n",
            "\n",
            "Fusing layers... \n",
            "Model Summary: 213 layers, 7088338 parameters, 0 gradients, 16.0 GFLOPs\n",
            "\u001b[34m\u001b[1mval: \u001b[0mScanning '/content/drive/MyDrive/data/SW15/test_over.cache' images and labels... 1000 found, 0 missing, 0 empty, 0 corrupted: 100% 1000/1000 [00:00<?, ?it/s]\n",
            "\u001b[34m\u001b[1mval: \u001b[0mWARNING: /content/drive/MyDrive/data/SW15/test_over/MP_SEL_018950.jpg: 1 duplicate labels removed\n",
            "               Class     Images     Labels          P          R     mAP@.5 mAP@.5:.95: 100% 32/32 [00:18<00:00,  1.70it/s]\n",
            "                 all       1000      13562      0.206     0.0455      0.126     0.0625\n",
            "               truck       1000        374          0          0          0          0\n",
            "          tree_trunk       1000       1977      0.687      0.111      0.395      0.178\n",
            "        traffic_sign       1000        453          0          0          0          0\n",
            "       traffic_light       1000        253          0          0          0          0\n",
            "        potted_plant       1000        352          0          0          0          0\n",
            "                pole       1000       1036      0.308    0.00386      0.156     0.0703\n",
            "              person       1000       2243      0.833      0.111      0.467       0.21\n",
            "     movable_signage       1000        799          0          0          0          0\n",
            "          motorcycle       1000        230          0          0          0          0\n",
            "               chair       1000       1003          0          0          0          0\n",
            "                 car       1000       2375      0.789      0.272      0.531      0.309\n",
            "                 bus       1000        177          0          0          0          0\n",
            "             bollard       1000        979          0          0          0          0\n",
            "             bicycle       1000        307          0          0          0          0\n",
            "               bench       1000       1004      0.468      0.184      0.339       0.17\n",
            "Speed: 0.2ms pre-process, 3.2ms inference, 1.3ms NMS per image at shape (32, 3, 640, 640)\n",
            "Results saved to \u001b[1mruns/val/exp\u001b[0m\n"
          ]
        }
      ]
    },
    {
      "cell_type": "code",
      "metadata": {
        "id": "zF76CQLtdf3-",
        "colab": {
          "base_uri": "https://localhost:8080/"
        },
        "outputId": "dbd8b2a2-a347-49ad-c005-afe8bf056a51"
      },
      "source": [
        "run_val(2, test_folder=DATA_ROOT+\"test_over\")"
      ],
      "execution_count": null,
      "outputs": [
        {
          "output_type": "stream",
          "name": "stdout",
          "text": [
            "Set val to /content/drive/MyDrive/data/SW15/test_over\n",
            "\u001b[34m\u001b[1mval: \u001b[0mdata=/content/drive/MyDrive/data/SW15/validate.yaml, weights=['/content/drive/MyDrive/data/SW15/runs/train/train_2/weights/best.pt'], batch_size=32, imgsz=640, conf_thres=0.5, iou_thres=0.6, task=val, device=, single_cls=False, augment=False, verbose=False, save_txt=False, save_hybrid=False, save_conf=False, save_json=False, project=runs/val, name=exp, exist_ok=False, half=False, dnn=False\n",
            "WARNING: confidence threshold 0.5 >> 0.001 will produce invalid mAP values.\n",
            "YOLOv5 🚀 v6.0-114-ga4207a2 torch 1.10.0+cu111 CUDA:0 (Tesla P100-PCIE-16GB, 16281MiB)\n",
            "\n",
            "Fusing layers... \n",
            "Model Summary: 213 layers, 7088338 parameters, 0 gradients, 16.0 GFLOPs\n",
            "\u001b[34m\u001b[1mval: \u001b[0mScanning '/content/drive/MyDrive/data/SW15/test_over.cache' images and labels... 1000 found, 0 missing, 0 empty, 0 corrupted: 100% 1000/1000 [00:00<?, ?it/s]\n",
            "\u001b[34m\u001b[1mval: \u001b[0mWARNING: /content/drive/MyDrive/data/SW15/test_over/MP_SEL_018950.jpg: 1 duplicate labels removed\n",
            "               Class     Images     Labels          P          R     mAP@.5 mAP@.5:.95: 100% 32/32 [00:18<00:00,  1.70it/s]\n",
            "                 all       1000      13562      0.274      0.074      0.174     0.0863\n",
            "               truck       1000        374          0          0          0          0\n",
            "          tree_trunk       1000       1977       0.58      0.177      0.378      0.153\n",
            "        traffic_sign       1000        453          0          0          0          0\n",
            "       traffic_light       1000        253          0          0          0          0\n",
            "        potted_plant       1000        352          0          0          0          0\n",
            "                pole       1000       1036      0.579     0.0637      0.312      0.129\n",
            "              person       1000       2243       0.76      0.299      0.539      0.262\n",
            "     movable_signage       1000        799          0          0          0          0\n",
            "          motorcycle       1000        230          0          0          0          0\n",
            "               chair       1000       1003          0          0          0          0\n",
            "                 car       1000       2375      0.855      0.336      0.601      0.353\n",
            "                 bus       1000        177          0          0          0          0\n",
            "             bollard       1000        979      0.818    0.00919      0.414      0.202\n",
            "             bicycle       1000        307          0          0          0          0\n",
            "               bench       1000       1004      0.518      0.225      0.368      0.196\n",
            "Speed: 0.2ms pre-process, 3.2ms inference, 1.3ms NMS per image at shape (32, 3, 640, 640)\n",
            "Results saved to \u001b[1mruns/val/exp\u001b[0m\n"
          ]
        }
      ]
    },
    {
      "cell_type": "code",
      "metadata": {
        "id": "Iriphl-eeQPG",
        "colab": {
          "base_uri": "https://localhost:8080/"
        },
        "outputId": "5cb714b6-4f2c-4cc6-d9a8-a0ce349ad932"
      },
      "source": [
        "run_val(3, test_folder=DATA_ROOT+\"test_over\")"
      ],
      "execution_count": null,
      "outputs": [
        {
          "output_type": "stream",
          "name": "stdout",
          "text": [
            "Set val to /content/drive/MyDrive/data/SW15/test_over\n",
            "\u001b[34m\u001b[1mval: \u001b[0mdata=/content/drive/MyDrive/data/SW15/validate.yaml, weights=['/content/drive/MyDrive/data/SW15/runs/train/train_3/weights/best.pt'], batch_size=32, imgsz=640, conf_thres=0.5, iou_thres=0.6, task=val, device=, single_cls=False, augment=False, verbose=False, save_txt=False, save_hybrid=False, save_conf=False, save_json=False, project=runs/val, name=exp, exist_ok=False, half=False, dnn=False\n",
            "WARNING: confidence threshold 0.5 >> 0.001 will produce invalid mAP values.\n",
            "YOLOv5 🚀 v6.0-114-ga4207a2 torch 1.10.0+cu111 CUDA:0 (Tesla P100-PCIE-16GB, 16281MiB)\n",
            "\n",
            "Fusing layers... \n",
            "Model Summary: 213 layers, 7088338 parameters, 0 gradients, 16.0 GFLOPs\n",
            "\u001b[34m\u001b[1mval: \u001b[0mScanning '/content/drive/MyDrive/data/SW15/test_over.cache' images and labels... 1000 found, 0 missing, 0 empty, 0 corrupted: 100% 1000/1000 [00:00<?, ?it/s]\n",
            "\u001b[34m\u001b[1mval: \u001b[0mWARNING: /content/drive/MyDrive/data/SW15/test_over/MP_SEL_018950.jpg: 1 duplicate labels removed\n",
            "               Class     Images     Labels          P          R     mAP@.5 mAP@.5:.95: 100% 32/32 [00:19<00:00,  1.65it/s]\n",
            "                 all       1000      13562      0.327      0.101      0.214      0.111\n",
            "               truck       1000        374          0          0          0          0\n",
            "          tree_trunk       1000       1977      0.652      0.265      0.454      0.192\n",
            "        traffic_sign       1000        453          0          0          0          0\n",
            "       traffic_light       1000        253          0          0          0          0\n",
            "        potted_plant       1000        352          0          0          0          0\n",
            "                pole       1000       1036      0.597       0.18      0.368       0.15\n",
            "              person       1000       2243      0.769      0.342      0.568      0.292\n",
            "     movable_signage       1000        799      0.636    0.00876      0.323      0.177\n",
            "          motorcycle       1000        230          0          0          0          0\n",
            "               chair       1000       1003          0          0          0          0\n",
            "                 car       1000       2375      0.773      0.429      0.615      0.355\n",
            "                 bus       1000        177          0          0          0          0\n",
            "             bollard       1000        979          1    0.00306      0.502      0.301\n",
            "             bicycle       1000        307          0          0          0          0\n",
            "               bench       1000       1004      0.483      0.286      0.383      0.196\n",
            "Speed: 0.2ms pre-process, 3.2ms inference, 1.3ms NMS per image at shape (32, 3, 640, 640)\n",
            "Results saved to \u001b[1mruns/val/exp\u001b[0m\n"
          ]
        }
      ]
    },
    {
      "cell_type": "code",
      "metadata": {
        "id": "YDB1GAHOepTW",
        "colab": {
          "base_uri": "https://localhost:8080/"
        },
        "outputId": "029b7149-2d5e-41dd-ab4e-4e1da19a39b0"
      },
      "source": [
        "run_val(4, test_folder=DATA_ROOT+\"test_over\")"
      ],
      "execution_count": null,
      "outputs": [
        {
          "output_type": "stream",
          "name": "stdout",
          "text": [
            "Set val to /content/drive/MyDrive/data/SW15/test_over\n",
            "\u001b[34m\u001b[1mval: \u001b[0mdata=/content/drive/MyDrive/data/SW15/validate.yaml, weights=['/content/drive/MyDrive/data/SW15/runs/train/train_4/weights/best.pt'], batch_size=32, imgsz=640, conf_thres=0.5, iou_thres=0.6, task=val, device=, single_cls=False, augment=False, verbose=False, save_txt=False, save_hybrid=False, save_conf=False, save_json=False, project=runs/val, name=exp, exist_ok=False, half=False, dnn=False\n",
            "WARNING: confidence threshold 0.5 >> 0.001 will produce invalid mAP values.\n",
            "YOLOv5 🚀 v6.0-114-ga4207a2 torch 1.10.0+cu111 CUDA:0 (Tesla P100-PCIE-16GB, 16281MiB)\n",
            "\n",
            "Fusing layers... \n",
            "Model Summary: 213 layers, 7088338 parameters, 0 gradients, 16.0 GFLOPs\n",
            "\u001b[34m\u001b[1mval: \u001b[0mScanning '/content/drive/MyDrive/data/SW15/test_over.cache' images and labels... 1000 found, 0 missing, 0 empty, 0 corrupted: 100% 1000/1000 [00:00<?, ?it/s]\n",
            "\u001b[34m\u001b[1mval: \u001b[0mWARNING: /content/drive/MyDrive/data/SW15/test_over/MP_SEL_018950.jpg: 1 duplicate labels removed\n",
            "               Class     Images     Labels          P          R     mAP@.5 mAP@.5:.95: 100% 32/32 [00:19<00:00,  1.67it/s]\n",
            "                 all       1000      13562      0.347      0.123      0.236      0.124\n",
            "               truck       1000        374          0          0          0          0\n",
            "          tree_trunk       1000       1977      0.672      0.288      0.483      0.216\n",
            "        traffic_sign       1000        453          0          0          0          0\n",
            "       traffic_light       1000        253          0          0          0          0\n",
            "        potted_plant       1000        352          0          0          0          0\n",
            "                pole       1000       1036      0.567      0.196      0.371      0.159\n",
            "              person       1000       2243      0.754      0.398      0.592      0.308\n",
            "     movable_signage       1000        799      0.588     0.0125        0.3      0.198\n",
            "          motorcycle       1000        230          0          0          0          0\n",
            "               chair       1000       1003      0.636     0.0279      0.331       0.19\n",
            "                 car       1000       2375      0.768       0.48      0.638      0.376\n",
            "                 bus       1000        177          0          0          0          0\n",
            "             bollard       1000        979      0.647      0.126      0.373      0.168\n",
            "             bicycle       1000        307          0          0          0          0\n",
            "               bench       1000       1004      0.572      0.313      0.453      0.243\n",
            "Speed: 0.1ms pre-process, 3.4ms inference, 1.2ms NMS per image at shape (32, 3, 640, 640)\n",
            "Results saved to \u001b[1mruns/val/exp\u001b[0m\n"
          ]
        }
      ]
    },
    {
      "cell_type": "code",
      "metadata": {
        "id": "nxlXsTN-eq2F",
        "colab": {
          "base_uri": "https://localhost:8080/"
        },
        "outputId": "79917d4b-8836-401e-f8a2-ca593199c3c1"
      },
      "source": [
        "run_val(5, test_folder=DATA_ROOT+\"test_over\")"
      ],
      "execution_count": null,
      "outputs": [
        {
          "output_type": "stream",
          "name": "stdout",
          "text": [
            "Set val to /content/drive/MyDrive/data/SW15/test_over\n",
            "\u001b[34m\u001b[1mval: \u001b[0mdata=/content/drive/MyDrive/data/SW15/validate.yaml, weights=['/content/drive/MyDrive/data/SW15/runs/train/train_5/weights/best.pt'], batch_size=32, imgsz=640, conf_thres=0.5, iou_thres=0.6, task=val, device=, single_cls=False, augment=False, verbose=False, save_txt=False, save_hybrid=False, save_conf=False, save_json=False, project=runs/val, name=exp, exist_ok=False, half=False, dnn=False\n",
            "WARNING: confidence threshold 0.5 >> 0.001 will produce invalid mAP values.\n",
            "YOLOv5 🚀 v6.0-114-ga4207a2 torch 1.10.0+cu111 CUDA:0 (Tesla P100-PCIE-16GB, 16281MiB)\n",
            "\n",
            "Fusing layers... \n",
            "Model Summary: 213 layers, 7088338 parameters, 0 gradients, 16.0 GFLOPs\n",
            "\u001b[34m\u001b[1mval: \u001b[0mScanning '/content/drive/MyDrive/data/SW15/test_over.cache' images and labels... 1000 found, 0 missing, 0 empty, 0 corrupted: 100% 1000/1000 [00:00<?, ?it/s]\n",
            "\u001b[34m\u001b[1mval: \u001b[0mWARNING: /content/drive/MyDrive/data/SW15/test_over/MP_SEL_018950.jpg: 1 duplicate labels removed\n",
            "               Class     Images     Labels          P          R     mAP@.5 mAP@.5:.95: 100% 32/32 [00:19<00:00,  1.67it/s]\n",
            "                 all       1000      13562      0.384      0.125      0.252      0.125\n",
            "               truck       1000        374          0          0          0          0\n",
            "          tree_trunk       1000       1977       0.75      0.287      0.513      0.219\n",
            "        traffic_sign       1000        453      0.444     0.0177      0.233      0.115\n",
            "       traffic_light       1000        253          0          0          0          0\n",
            "        potted_plant       1000        352      0.636     0.0597       0.35      0.168\n",
            "                pole       1000       1036      0.684      0.165      0.412      0.175\n",
            "              person       1000       2243      0.806      0.342      0.591      0.321\n",
            "     movable_signage       1000        799      0.609      0.119      0.365      0.189\n",
            "          motorcycle       1000        230          0          0          0          0\n",
            "               chair       1000       1003      0.408      0.303      0.308      0.133\n",
            "                 car       1000       2375      0.803      0.451      0.644      0.387\n",
            "                 bus       1000        177          0          0          0          0\n",
            "             bollard       1000        979      0.623      0.127      0.363      0.165\n",
            "             bicycle       1000        307          0          0          0          0\n",
            "               bench       1000       1004          0          0          0          0\n",
            "Speed: 0.1ms pre-process, 3.2ms inference, 1.3ms NMS per image at shape (32, 3, 640, 640)\n",
            "Results saved to \u001b[1mruns/val/exp\u001b[0m\n"
          ]
        }
      ]
    },
    {
      "cell_type": "code",
      "metadata": {
        "id": "DHD5gw7gesHY",
        "colab": {
          "base_uri": "https://localhost:8080/"
        },
        "outputId": "f594d12e-ffc5-45a6-f74f-e8e3dee79069"
      },
      "source": [
        "run_val(6, test_folder=DATA_ROOT+\"test_over\")"
      ],
      "execution_count": null,
      "outputs": [
        {
          "output_type": "stream",
          "name": "stdout",
          "text": [
            "Set val to /content/drive/MyDrive/data/SW15/test_over\n",
            "\u001b[34m\u001b[1mval: \u001b[0mdata=/content/drive/MyDrive/data/SW15/validate.yaml, weights=['/content/drive/MyDrive/data/SW15/runs/train/train_6/weights/best.pt'], batch_size=32, imgsz=640, conf_thres=0.5, iou_thres=0.6, task=val, device=, single_cls=False, augment=False, verbose=False, save_txt=False, save_hybrid=False, save_conf=False, save_json=False, project=runs/val, name=exp, exist_ok=False, half=False, dnn=False\n",
            "WARNING: confidence threshold 0.5 >> 0.001 will produce invalid mAP values.\n",
            "YOLOv5 🚀 v6.0-114-ga4207a2 torch 1.10.0+cu111 CUDA:0 (Tesla P100-PCIE-16GB, 16281MiB)\n",
            "\n",
            "Fusing layers... \n",
            "Model Summary: 213 layers, 7088338 parameters, 0 gradients, 16.0 GFLOPs\n",
            "\u001b[34m\u001b[1mval: \u001b[0mScanning '/content/drive/MyDrive/data/SW15/test_over.cache' images and labels... 1000 found, 0 missing, 0 empty, 0 corrupted: 100% 1000/1000 [00:00<?, ?it/s]\n",
            "\u001b[34m\u001b[1mval: \u001b[0mWARNING: /content/drive/MyDrive/data/SW15/test_over/MP_SEL_018950.jpg: 1 duplicate labels removed\n",
            "               Class     Images     Labels          P          R     mAP@.5 mAP@.5:.95: 100% 32/32 [00:19<00:00,  1.65it/s]\n",
            "                 all       1000      13562      0.442      0.161      0.298       0.16\n",
            "               truck       1000        374       0.58      0.155      0.344      0.212\n",
            "          tree_trunk       1000       1977      0.683      0.239       0.46      0.213\n",
            "        traffic_sign       1000        453      0.442     0.0508      0.248       0.14\n",
            "       traffic_light       1000        253          0          0          0          0\n",
            "        potted_plant       1000        352      0.567     0.0966      0.315      0.139\n",
            "                pole       1000       1036      0.669     0.0994      0.385      0.191\n",
            "              person       1000       2243       0.82       0.42       0.64       0.36\n",
            "     movable_signage       1000        799      0.583      0.203      0.389      0.205\n",
            "          motorcycle       1000        230      0.403      0.126      0.243      0.148\n",
            "               chair       1000       1003      0.452      0.304      0.347      0.172\n",
            "                 car       1000       2375      0.763      0.537      0.676      0.412\n",
            "                 bus       1000        177          0          0          0          0\n",
            "             bollard       1000        979      0.676      0.179       0.42      0.207\n",
            "             bicycle       1000        307          0          0          0          0\n",
            "               bench       1000       1004          0          0          0          0\n",
            "Speed: 0.1ms pre-process, 3.2ms inference, 1.2ms NMS per image at shape (32, 3, 640, 640)\n",
            "Results saved to \u001b[1mruns/val/exp\u001b[0m\n"
          ]
        }
      ]
    },
    {
      "cell_type": "code",
      "metadata": {
        "id": "h52VmHbxetNH",
        "colab": {
          "base_uri": "https://localhost:8080/"
        },
        "outputId": "1cedc450-c71f-4c87-990f-bb2c8128d962"
      },
      "source": [
        "run_val(7, test_folder=DATA_ROOT+\"test_over\")"
      ],
      "execution_count": null,
      "outputs": [
        {
          "output_type": "stream",
          "name": "stdout",
          "text": [
            "Set val to /content/drive/MyDrive/data/SW15/test_over\n",
            "\u001b[34m\u001b[1mval: \u001b[0mdata=/content/drive/MyDrive/data/SW15/validate.yaml, weights=['/content/drive/MyDrive/data/SW15/runs/train/train_7/weights/best.pt'], batch_size=32, imgsz=640, conf_thres=0.5, iou_thres=0.6, task=val, device=, single_cls=False, augment=False, verbose=False, save_txt=False, save_hybrid=False, save_conf=False, save_json=False, project=runs/val, name=exp, exist_ok=False, half=False, dnn=False\n",
            "WARNING: confidence threshold 0.5 >> 0.001 will produce invalid mAP values.\n",
            "YOLOv5 🚀 v6.0-114-ga4207a2 torch 1.10.0+cu111 CUDA:0 (Tesla P100-PCIE-16GB, 16281MiB)\n",
            "\n",
            "Fusing layers... \n",
            "Model Summary: 213 layers, 7088338 parameters, 0 gradients, 16.0 GFLOPs\n",
            "\u001b[34m\u001b[1mval: \u001b[0mScanning '/content/drive/MyDrive/data/SW15/test_over.cache' images and labels... 1000 found, 0 missing, 0 empty, 0 corrupted: 100% 1000/1000 [00:00<?, ?it/s]\n",
            "\u001b[34m\u001b[1mval: \u001b[0mWARNING: /content/drive/MyDrive/data/SW15/test_over/MP_SEL_018950.jpg: 1 duplicate labels removed\n",
            "               Class     Images     Labels          P          R     mAP@.5 mAP@.5:.95: 100% 32/32 [00:19<00:00,  1.67it/s]\n",
            "                 all       1000      13562      0.547      0.131      0.339      0.196\n",
            "               truck       1000        374      0.622     0.0615       0.34       0.21\n",
            "          tree_trunk       1000       1977       0.74      0.187      0.458      0.209\n",
            "        traffic_sign       1000        453      0.933     0.0309      0.483      0.289\n",
            "       traffic_light       1000        253          0          0          0          0\n",
            "        potted_plant       1000        352      0.446     0.0938      0.267      0.135\n",
            "                pole       1000       1036      0.777      0.148      0.464      0.225\n",
            "              person       1000       2243      0.833      0.385      0.628      0.358\n",
            "     movable_signage       1000        799       0.73      0.135      0.432      0.251\n",
            "          motorcycle       1000        230          1     0.0087      0.504      0.403\n",
            "               chair       1000       1003      0.551      0.259      0.376      0.208\n",
            "                 car       1000       2375      0.825      0.515      0.692      0.444\n",
            "                 bus       1000        177          0          0          0          0\n",
            "             bollard       1000        979      0.743      0.145      0.433      0.202\n",
            "             bicycle       1000        307          0          0          0          0\n",
            "               bench       1000       1004          0          0          0          0\n",
            "Speed: 0.2ms pre-process, 3.3ms inference, 1.1ms NMS per image at shape (32, 3, 640, 640)\n",
            "Results saved to \u001b[1mruns/val/exp\u001b[0m\n"
          ]
        }
      ]
    },
    {
      "cell_type": "code",
      "metadata": {
        "id": "xUSB748XeuVr",
        "colab": {
          "base_uri": "https://localhost:8080/"
        },
        "outputId": "2c8ed525-66f6-49b3-97d7-0b16d4a1f177"
      },
      "source": [
        "run_val(8, test_folder=DATA_ROOT+\"test_over\")"
      ],
      "execution_count": null,
      "outputs": [
        {
          "output_type": "stream",
          "name": "stdout",
          "text": [
            "Set val to /content/drive/MyDrive/data/SW15/test_over\n",
            "\u001b[34m\u001b[1mval: \u001b[0mdata=/content/drive/MyDrive/data/SW15/validate.yaml, weights=['/content/drive/MyDrive/data/SW15/runs/train/train_8/weights/best.pt'], batch_size=32, imgsz=640, conf_thres=0.5, iou_thres=0.6, task=val, device=, single_cls=False, augment=False, verbose=False, save_txt=False, save_hybrid=False, save_conf=False, save_json=False, project=runs/val, name=exp, exist_ok=False, half=False, dnn=False\n",
            "WARNING: confidence threshold 0.5 >> 0.001 will produce invalid mAP values.\n",
            "YOLOv5 🚀 v6.0-114-ga4207a2 torch 1.10.0+cu111 CUDA:0 (Tesla P100-PCIE-16GB, 16281MiB)\n",
            "\n",
            "Fusing layers... \n",
            "Model Summary: 213 layers, 7088338 parameters, 0 gradients, 16.0 GFLOPs\n",
            "\u001b[34m\u001b[1mval: \u001b[0mScanning '/content/drive/MyDrive/data/SW15/test_over.cache' images and labels... 1000 found, 0 missing, 0 empty, 0 corrupted: 100% 1000/1000 [00:00<?, ?it/s]\n",
            "\u001b[34m\u001b[1mval: \u001b[0mWARNING: /content/drive/MyDrive/data/SW15/test_over/MP_SEL_018950.jpg: 1 duplicate labels removed\n",
            "               Class     Images     Labels          P          R     mAP@.5 mAP@.5:.95: 100% 32/32 [00:19<00:00,  1.66it/s]\n",
            "                 all       1000      13562      0.508      0.138      0.321      0.181\n",
            "               truck       1000        374      0.581     0.0481      0.309      0.215\n",
            "          tree_trunk       1000       1977      0.749      0.259      0.498      0.213\n",
            "        traffic_sign       1000        453      0.688     0.0243       0.36      0.219\n",
            "       traffic_light       1000        253          0          0          0          0\n",
            "        potted_plant       1000        352      0.714      0.071      0.391       0.18\n",
            "                pole       1000       1036      0.792      0.158      0.475      0.235\n",
            "              person       1000       2243      0.865      0.395      0.646      0.381\n",
            "     movable_signage       1000        799      0.757      0.179      0.466      0.258\n",
            "          motorcycle       1000        230      0.517     0.0652      0.279      0.195\n",
            "               chair       1000       1003       0.51       0.24      0.343      0.186\n",
            "                 car       1000       2375      0.819      0.495      0.678      0.446\n",
            "                 bus       1000        177          0          0          0          0\n",
            "             bollard       1000        979      0.634      0.138      0.368      0.183\n",
            "             bicycle       1000        307          0          0          0          0\n",
            "               bench       1000       1004          0          0          0          0\n",
            "Speed: 0.1ms pre-process, 3.2ms inference, 1.3ms NMS per image at shape (32, 3, 640, 640)\n",
            "Results saved to \u001b[1mruns/val/exp\u001b[0m\n"
          ]
        }
      ]
    },
    {
      "cell_type": "code",
      "metadata": {
        "id": "t1O7GKJcever",
        "colab": {
          "base_uri": "https://localhost:8080/"
        },
        "outputId": "8ec8cf5e-ee28-4662-f64d-4ba89e3ded59"
      },
      "source": [
        "run_val(9, test_folder=DATA_ROOT+\"test_over\")"
      ],
      "execution_count": null,
      "outputs": [
        {
          "output_type": "stream",
          "name": "stdout",
          "text": [
            "Set val to /content/drive/MyDrive/data/SW15/test_over\n",
            "\u001b[34m\u001b[1mval: \u001b[0mdata=/content/drive/MyDrive/data/SW15/validate.yaml, weights=['/content/drive/MyDrive/data/SW15/runs/train/train_9/weights/best.pt'], batch_size=32, imgsz=640, conf_thres=0.5, iou_thres=0.6, task=val, device=, single_cls=False, augment=False, verbose=False, save_txt=False, save_hybrid=False, save_conf=False, save_json=False, project=runs/val, name=exp, exist_ok=False, half=False, dnn=False\n",
            "WARNING: confidence threshold 0.5 >> 0.001 will produce invalid mAP values.\n",
            "YOLOv5 🚀 v6.0-114-ga4207a2 torch 1.10.0+cu111 CUDA:0 (Tesla P100-PCIE-16GB, 16281MiB)\n",
            "\n",
            "Fusing layers... \n",
            "Model Summary: 213 layers, 7088338 parameters, 0 gradients, 16.0 GFLOPs\n",
            "\u001b[34m\u001b[1mval: \u001b[0mScanning '/content/drive/MyDrive/data/SW15/test_over.cache' images and labels... 1000 found, 0 missing, 0 empty, 0 corrupted: 100% 1000/1000 [00:00<?, ?it/s]\n",
            "\u001b[34m\u001b[1mval: \u001b[0mWARNING: /content/drive/MyDrive/data/SW15/test_over/MP_SEL_018950.jpg: 1 duplicate labels removed\n",
            "               Class     Images     Labels          P          R     mAP@.5 mAP@.5:.95: 100% 32/32 [00:19<00:00,  1.65it/s]\n",
            "                 all       1000      13562      0.524      0.133      0.328      0.184\n",
            "               truck       1000        374          0          0          0          0\n",
            "          tree_trunk       1000       1977      0.694      0.305      0.498      0.222\n",
            "        traffic_sign       1000        453      0.727     0.0353      0.383      0.215\n",
            "       traffic_light       1000        253          0          0          0          0\n",
            "        potted_plant       1000        352       0.75      0.017      0.381      0.203\n",
            "                pole       1000       1036      0.716      0.219      0.466      0.221\n",
            "              person       1000       2243       0.85      0.381      0.633      0.368\n",
            "     movable_signage       1000        799      0.761      0.195      0.473      0.262\n",
            "          motorcycle       1000        230      0.429     0.0522      0.234      0.165\n",
            "               chair       1000       1003       0.64      0.105      0.371      0.212\n",
            "                 car       1000       2375      0.854      0.506      0.696      0.467\n",
            "                 bus       1000        177          0          0          0          0\n",
            "             bollard       1000        979      0.635      0.171       0.38       0.18\n",
            "             bicycle       1000        307        0.8      0.013      0.406      0.244\n",
            "               bench       1000       1004          0          0          0          0\n",
            "Speed: 0.3ms pre-process, 3.2ms inference, 1.2ms NMS per image at shape (32, 3, 640, 640)\n",
            "Results saved to \u001b[1mruns/val/exp\u001b[0m\n"
          ]
        }
      ]
    },
    {
      "cell_type": "code",
      "metadata": {
        "id": "_vKP-E8Lew2k",
        "colab": {
          "base_uri": "https://localhost:8080/"
        },
        "outputId": "d3d0d82c-ed13-43a1-ad52-0b15c4fec588"
      },
      "source": [
        "run_val(10, test_folder=DATA_ROOT+\"test_over\")"
      ],
      "execution_count": null,
      "outputs": [
        {
          "output_type": "stream",
          "name": "stdout",
          "text": [
            "Set val to /content/drive/MyDrive/data/SW15/test_over\n",
            "\u001b[34m\u001b[1mval: \u001b[0mdata=/content/drive/MyDrive/data/SW15/validate.yaml, weights=['/content/drive/MyDrive/data/SW15/runs/train/train_10/weights/best.pt'], batch_size=32, imgsz=640, conf_thres=0.5, iou_thres=0.6, task=val, device=, single_cls=False, augment=False, verbose=False, save_txt=False, save_hybrid=False, save_conf=False, save_json=False, project=runs/val, name=exp, exist_ok=False, half=False, dnn=False\n",
            "WARNING: confidence threshold 0.5 >> 0.001 will produce invalid mAP values.\n",
            "YOLOv5 🚀 v6.0-114-ga4207a2 torch 1.10.0+cu111 CUDA:0 (Tesla P100-PCIE-16GB, 16281MiB)\n",
            "\n",
            "Fusing layers... \n",
            "Model Summary: 213 layers, 7088338 parameters, 0 gradients, 16.0 GFLOPs\n",
            "\u001b[34m\u001b[1mval: \u001b[0mScanning '/content/drive/MyDrive/data/SW15/test_over.cache' images and labels... 1000 found, 0 missing, 0 empty, 0 corrupted: 100% 1000/1000 [00:00<?, ?it/s]\n",
            "\u001b[34m\u001b[1mval: \u001b[0mWARNING: /content/drive/MyDrive/data/SW15/test_over/MP_SEL_018950.jpg: 1 duplicate labels removed\n",
            "               Class     Images     Labels          P          R     mAP@.5 mAP@.5:.95: 100% 32/32 [00:19<00:00,  1.68it/s]\n",
            "                 all       1000      13562      0.567      0.119      0.343      0.207\n",
            "               truck       1000        374          0          0          0          0\n",
            "          tree_trunk       1000       1977      0.767      0.236      0.495       0.24\n",
            "        traffic_sign       1000        453      0.676     0.0508      0.366      0.205\n",
            "       traffic_light       1000        253          0          0          0          0\n",
            "        potted_plant       1000        352      0.565     0.0739      0.311      0.165\n",
            "                pole       1000       1036      0.851     0.0714      0.459      0.237\n",
            "              person       1000       2243      0.855      0.417      0.651      0.372\n",
            "     movable_signage       1000        799      0.682      0.126      0.401      0.237\n",
            "          motorcycle       1000        230          1    0.00435      0.502      0.402\n",
            "               chair       1000       1003      0.767     0.0788      0.421      0.249\n",
            "                 car       1000       2375      0.878      0.474      0.689      0.468\n",
            "                 bus       1000        177          0          0          0          0\n",
            "             bollard       1000        979      0.706      0.236      0.469      0.245\n",
            "             bicycle       1000        307       0.75    0.00977       0.38      0.291\n",
            "               bench       1000       1004          0          0          0          0\n",
            "Speed: 0.1ms pre-process, 3.2ms inference, 1.5ms NMS per image at shape (32, 3, 640, 640)\n",
            "Results saved to \u001b[1mruns/val/exp\u001b[0m\n"
          ]
        }
      ]
    },
    {
      "cell_type": "code",
      "metadata": {
        "id": "ggVCgny6eyNu",
        "colab": {
          "base_uri": "https://localhost:8080/"
        },
        "outputId": "e8761991-aa40-49df-8657-d957a2703dd4"
      },
      "source": [
        "run_val(11, test_folder=DATA_ROOT+\"test_over\")"
      ],
      "execution_count": null,
      "outputs": [
        {
          "output_type": "stream",
          "name": "stdout",
          "text": [
            "Set val to /content/drive/MyDrive/data/SW15/test_over\n",
            "\u001b[34m\u001b[1mval: \u001b[0mdata=/content/drive/MyDrive/data/SW15/validate.yaml, weights=['/content/drive/MyDrive/data/SW15/runs/train/train_11/weights/best.pt'], batch_size=32, imgsz=640, conf_thres=0.5, iou_thres=0.6, task=val, device=, single_cls=False, augment=False, verbose=False, save_txt=False, save_hybrid=False, save_conf=False, save_json=False, project=runs/val, name=exp, exist_ok=False, half=False, dnn=False\n",
            "WARNING: confidence threshold 0.5 >> 0.001 will produce invalid mAP values.\n",
            "YOLOv5 🚀 v6.0-114-ga4207a2 torch 1.10.0+cu111 CUDA:0 (Tesla P100-PCIE-16GB, 16281MiB)\n",
            "\n",
            "Fusing layers... \n",
            "Model Summary: 213 layers, 7088338 parameters, 0 gradients, 16.0 GFLOPs\n",
            "\u001b[34m\u001b[1mval: \u001b[0mScanning '/content/drive/MyDrive/data/SW15/test_over.cache' images and labels... 1000 found, 0 missing, 0 empty, 0 corrupted: 100% 1000/1000 [00:00<?, ?it/s]\n",
            "\u001b[34m\u001b[1mval: \u001b[0mWARNING: /content/drive/MyDrive/data/SW15/test_over/MP_SEL_018950.jpg: 1 duplicate labels removed\n",
            "               Class     Images     Labels          P          R     mAP@.5 mAP@.5:.95: 100% 32/32 [00:19<00:00,  1.65it/s]\n",
            "                 all       1000      13562      0.578      0.108      0.343      0.212\n",
            "               truck       1000        374      0.333    0.00535      0.168      0.142\n",
            "          tree_trunk       1000       1977       0.84       0.16      0.497      0.262\n",
            "        traffic_sign       1000        453      0.833     0.0442       0.44      0.267\n",
            "       traffic_light       1000        253          0          0          0          0\n",
            "        potted_plant       1000        352        0.6     0.0767      0.333      0.172\n",
            "                pole       1000       1036      0.902     0.0531      0.477       0.26\n",
            "              person       1000       2243      0.882      0.399      0.652      0.384\n",
            "     movable_signage       1000        799      0.701      0.103        0.4      0.243\n",
            "          motorcycle       1000        230       0.75      0.013      0.384      0.294\n",
            "               chair       1000       1003      0.767     0.0558       0.41      0.257\n",
            "                 car       1000       2375      0.877      0.469      0.686      0.473\n",
            "                 bus       1000        177          0          0          0          0\n",
            "             bollard       1000        979      0.735      0.233      0.477      0.249\n",
            "             bicycle       1000        307      0.444      0.013      0.228      0.183\n",
            "               bench       1000       1004          0          0          0          0\n",
            "Speed: 0.1ms pre-process, 3.4ms inference, 1.2ms NMS per image at shape (32, 3, 640, 640)\n",
            "Results saved to \u001b[1mruns/val/exp\u001b[0m\n"
          ]
        }
      ]
    },
    {
      "cell_type": "code",
      "metadata": {
        "id": "H7cRMFc-ezX3",
        "colab": {
          "base_uri": "https://localhost:8080/"
        },
        "outputId": "609ae6fc-b2fb-4edc-a521-4ebe4ea19abd"
      },
      "source": [
        "run_val(12, test_folder=DATA_ROOT+\"test_over\")"
      ],
      "execution_count": null,
      "outputs": [
        {
          "output_type": "stream",
          "name": "stdout",
          "text": [
            "Set val to /content/drive/MyDrive/data/SW15/test_over\n",
            "\u001b[34m\u001b[1mval: \u001b[0mdata=/content/drive/MyDrive/data/SW15/validate.yaml, weights=['/content/drive/MyDrive/data/SW15/runs/train/train_12/weights/best.pt'], batch_size=32, imgsz=640, conf_thres=0.5, iou_thres=0.6, task=val, device=, single_cls=False, augment=False, verbose=False, save_txt=False, save_hybrid=False, save_conf=False, save_json=False, project=runs/val, name=exp, exist_ok=False, half=False, dnn=False\n",
            "WARNING: confidence threshold 0.5 >> 0.001 will produce invalid mAP values.\n",
            "YOLOv5 🚀 v6.0-114-ga4207a2 torch 1.10.0+cu111 CUDA:0 (Tesla P100-PCIE-16GB, 16281MiB)\n",
            "\n",
            "Fusing layers... \n",
            "Model Summary: 213 layers, 7088338 parameters, 0 gradients, 16.0 GFLOPs\n",
            "\u001b[34m\u001b[1mval: \u001b[0mScanning '/content/drive/MyDrive/data/SW15/test_over.cache' images and labels... 1000 found, 0 missing, 0 empty, 0 corrupted: 100% 1000/1000 [00:00<?, ?it/s]\n",
            "\u001b[34m\u001b[1mval: \u001b[0mWARNING: /content/drive/MyDrive/data/SW15/test_over/MP_SEL_018950.jpg: 1 duplicate labels removed\n",
            "               Class     Images     Labels          P          R     mAP@.5 mAP@.5:.95: 100% 32/32 [00:19<00:00,  1.64it/s]\n",
            "                 all       1000      13562      0.596      0.143       0.37      0.198\n",
            "               truck       1000        374          1    0.00535      0.503      0.302\n",
            "          tree_trunk       1000       1977      0.657      0.246      0.444      0.186\n",
            "        traffic_sign       1000        453      0.792     0.0419       0.42      0.226\n",
            "       traffic_light       1000        253      0.125    0.00395     0.0628    0.00628\n",
            "        potted_plant       1000        352      0.515     0.0568      0.284      0.125\n",
            "                pole       1000       1036      0.624      0.238      0.425       0.19\n",
            "              person       1000       2243      0.732      0.425      0.598        0.3\n",
            "     movable_signage       1000        799       0.58      0.104      0.345      0.168\n",
            "          motorcycle       1000        230      0.422     0.0826      0.254      0.147\n",
            "               chair       1000       1003      0.941      0.016      0.479      0.317\n",
            "                 car       1000       2375      0.812      0.513      0.687      0.433\n",
            "                 bus       1000        177      0.585      0.136      0.357      0.242\n",
            "             bollard       1000        979      0.465      0.229      0.328      0.135\n",
            "             bicycle       1000        307      0.684     0.0423      0.362      0.187\n",
            "               bench       1000       1004          0          0          0          0\n",
            "Speed: 0.2ms pre-process, 3.2ms inference, 1.3ms NMS per image at shape (32, 3, 640, 640)\n",
            "Results saved to \u001b[1mruns/val/exp\u001b[0m\n"
          ]
        }
      ]
    },
    {
      "cell_type": "code",
      "metadata": {
        "id": "vQ7KR0o8e0hg",
        "colab": {
          "base_uri": "https://localhost:8080/"
        },
        "outputId": "48d65088-1ec8-429a-c4f5-754aadf8b77c"
      },
      "source": [
        "run_val(13, test_folder=DATA_ROOT+\"test_over\")"
      ],
      "execution_count": null,
      "outputs": [
        {
          "output_type": "stream",
          "name": "stdout",
          "text": [
            "Set val to /content/drive/MyDrive/data/SW15/test_over\n",
            "\u001b[34m\u001b[1mval: \u001b[0mdata=/content/drive/MyDrive/data/SW15/validate.yaml, weights=['/content/drive/MyDrive/data/SW15/runs/train/train_13/weights/best.pt'], batch_size=32, imgsz=640, conf_thres=0.5, iou_thres=0.6, task=val, device=, single_cls=False, augment=False, verbose=False, save_txt=False, save_hybrid=False, save_conf=False, save_json=False, project=runs/val, name=exp, exist_ok=False, half=False, dnn=False\n",
            "WARNING: confidence threshold 0.5 >> 0.001 will produce invalid mAP values.\n",
            "YOLOv5 🚀 v6.0-114-ga4207a2 torch 1.10.0+cu111 CUDA:0 (Tesla P100-PCIE-16GB, 16281MiB)\n",
            "\n",
            "Fusing layers... \n",
            "Model Summary: 213 layers, 7088338 parameters, 0 gradients, 16.0 GFLOPs\n",
            "\u001b[34m\u001b[1mval: \u001b[0mScanning '/content/drive/MyDrive/data/SW15/test_over.cache' images and labels... 1000 found, 0 missing, 0 empty, 0 corrupted: 100% 1000/1000 [00:00<?, ?it/s]\n",
            "\u001b[34m\u001b[1mval: \u001b[0mWARNING: /content/drive/MyDrive/data/SW15/test_over/MP_SEL_018950.jpg: 1 duplicate labels removed\n",
            "               Class     Images     Labels          P          R     mAP@.5 mAP@.5:.95: 100% 32/32 [00:19<00:00,  1.67it/s]\n",
            "                 all       1000      13562      0.698      0.148      0.423      0.249\n",
            "               truck       1000        374      0.714     0.0134      0.366      0.314\n",
            "          tree_trunk       1000       1977      0.735      0.295      0.508      0.219\n",
            "        traffic_sign       1000        453          1      0.011      0.506      0.304\n",
            "       traffic_light       1000        253      0.478     0.0435      0.255      0.117\n",
            "        potted_plant       1000        352      0.652     0.0426      0.347      0.145\n",
            "                pole       1000       1036      0.734      0.173      0.451      0.218\n",
            "              person       1000       2243      0.819      0.426      0.644      0.362\n",
            "     movable_signage       1000        799      0.693        0.2      0.444       0.24\n",
            "          motorcycle       1000        230          1     0.0174      0.509      0.407\n",
            "               chair       1000       1003      0.875      0.014      0.444      0.244\n",
            "                 car       1000       2375      0.894      0.472      0.697      0.474\n",
            "                 bus       1000        177      0.538      0.158      0.345      0.244\n",
            "             bollard       1000        979      0.682      0.281      0.473      0.244\n",
            "             bicycle       1000        307      0.649     0.0782      0.351      0.201\n",
            "               bench       1000       1004          0          0          0          0\n",
            "Speed: 0.1ms pre-process, 3.2ms inference, 1.3ms NMS per image at shape (32, 3, 640, 640)\n",
            "Results saved to \u001b[1mruns/val/exp\u001b[0m\n"
          ]
        }
      ]
    },
    {
      "cell_type": "code",
      "metadata": {
        "id": "UUpL9yPbe1w6",
        "colab": {
          "base_uri": "https://localhost:8080/"
        },
        "outputId": "7a7d85c9-6ae0-4da9-89d7-595a230e0658"
      },
      "source": [
        "run_val(14, test_folder=DATA_ROOT+\"test_over\")"
      ],
      "execution_count": null,
      "outputs": [
        {
          "output_type": "stream",
          "name": "stdout",
          "text": [
            "Set val to /content/drive/MyDrive/data/SW15/test_over\n",
            "\u001b[34m\u001b[1mval: \u001b[0mdata=/content/drive/MyDrive/data/SW15/validate.yaml, weights=['/content/drive/MyDrive/data/SW15/runs/train/train_14/weights/best.pt'], batch_size=32, imgsz=640, conf_thres=0.5, iou_thres=0.6, task=val, device=, single_cls=False, augment=False, verbose=False, save_txt=False, save_hybrid=False, save_conf=False, save_json=False, project=runs/val, name=exp, exist_ok=False, half=False, dnn=False\n",
            "WARNING: confidence threshold 0.5 >> 0.001 will produce invalid mAP values.\n",
            "YOLOv5 🚀 v6.0-114-ga4207a2 torch 1.10.0+cu111 CUDA:0 (Tesla P100-PCIE-16GB, 16281MiB)\n",
            "\n",
            "Fusing layers... \n",
            "Model Summary: 213 layers, 7088338 parameters, 0 gradients, 16.0 GFLOPs\n",
            "\u001b[34m\u001b[1mval: \u001b[0mScanning '/content/drive/MyDrive/data/SW15/test_over.cache' images and labels... 1000 found, 0 missing, 0 empty, 0 corrupted: 100% 1000/1000 [00:00<?, ?it/s]\n",
            "\u001b[34m\u001b[1mval: \u001b[0mWARNING: /content/drive/MyDrive/data/SW15/test_over/MP_SEL_018950.jpg: 1 duplicate labels removed\n",
            "               Class     Images     Labels          P          R     mAP@.5 mAP@.5:.95: 100% 32/32 [00:18<00:00,  1.71it/s]\n",
            "                 all       1000      13562       0.62       0.13      0.375      0.233\n",
            "               truck       1000        374      0.667    0.00535      0.335      0.268\n",
            "          tree_trunk       1000       1977      0.832      0.196      0.513      0.242\n",
            "        traffic_sign       1000        453      0.591     0.0287      0.307      0.171\n",
            "       traffic_light       1000        253      0.241     0.0277      0.126      0.039\n",
            "        potted_plant       1000        352      0.692     0.0256      0.361      0.212\n",
            "                pole       1000       1036      0.852      0.139      0.495      0.258\n",
            "              person       1000       2243      0.851        0.4       0.64      0.363\n",
            "     movable_signage       1000        799      0.744      0.124      0.434      0.254\n",
            "          motorcycle       1000        230      0.682     0.0652      0.372      0.261\n",
            "               chair       1000       1003          1   0.000997        0.5       0.45\n",
            "                 car       1000       2375      0.902      0.474      0.698      0.479\n",
            "                 bus       1000        177      0.525      0.181      0.345      0.248\n",
            "             bollard       1000        979      0.718      0.279      0.496      0.254\n",
            "             bicycle       1000        307          0          0          0          0\n",
            "               bench       1000       1004          0          0          0          0\n",
            "Speed: 0.2ms pre-process, 3.2ms inference, 1.2ms NMS per image at shape (32, 3, 640, 640)\n",
            "Results saved to \u001b[1mruns/val/exp\u001b[0m\n"
          ]
        }
      ]
    },
    {
      "cell_type": "code",
      "metadata": {
        "id": "eHoL9En4e21u",
        "colab": {
          "base_uri": "https://localhost:8080/"
        },
        "outputId": "253667d4-e4d8-4ce7-81fc-44a3e6b9be20"
      },
      "source": [
        "run_val(15, test_folder=DATA_ROOT+\"test_over\")"
      ],
      "execution_count": null,
      "outputs": [
        {
          "output_type": "stream",
          "name": "stdout",
          "text": [
            "Set val to /content/drive/MyDrive/data/SW15/test_over\n",
            "\u001b[34m\u001b[1mval: \u001b[0mdata=/content/drive/MyDrive/data/SW15/validate.yaml, weights=['/content/drive/MyDrive/data/SW15/runs/train/train_15/weights/best.pt'], batch_size=32, imgsz=640, conf_thres=0.5, iou_thres=0.6, task=val, device=, single_cls=False, augment=False, verbose=False, save_txt=False, save_hybrid=False, save_conf=False, save_json=False, project=runs/val, name=exp, exist_ok=False, half=False, dnn=False\n",
            "WARNING: confidence threshold 0.5 >> 0.001 will produce invalid mAP values.\n",
            "YOLOv5 🚀 v6.0-114-ga4207a2 torch 1.10.0+cu111 CUDA:0 (Tesla P100-PCIE-16GB, 16281MiB)\n",
            "\n",
            "Fusing layers... \n",
            "Model Summary: 213 layers, 7088338 parameters, 0 gradients, 16.0 GFLOPs\n",
            "\u001b[34m\u001b[1mval: \u001b[0mScanning '/content/drive/MyDrive/data/SW15/test_over.cache' images and labels... 1000 found, 0 missing, 0 empty, 0 corrupted: 100% 1000/1000 [00:00<?, ?it/s]\n",
            "\u001b[34m\u001b[1mval: \u001b[0mWARNING: /content/drive/MyDrive/data/SW15/test_over/MP_SEL_018950.jpg: 1 duplicate labels removed\n",
            "               Class     Images     Labels          P          R     mAP@.5 mAP@.5:.95: 100% 32/32 [00:19<00:00,  1.68it/s]\n",
            "                 all       1000      13562      0.574      0.144       0.36      0.207\n",
            "               truck       1000        374          0          0          0          0\n",
            "          tree_trunk       1000       1977      0.714      0.304      0.498      0.224\n",
            "        traffic_sign       1000        453      0.714      0.011      0.364      0.233\n",
            "       traffic_light       1000        253      0.467     0.0277       0.24     0.0819\n",
            "        potted_plant       1000        352      0.529     0.0256      0.277      0.153\n",
            "                pole       1000       1036      0.771      0.159      0.461      0.213\n",
            "              person       1000       2243      0.829      0.433      0.651      0.382\n",
            "     movable_signage       1000        799      0.836      0.134      0.487      0.281\n",
            "          motorcycle       1000        230      0.625     0.0652      0.347      0.259\n",
            "               chair       1000       1003          1   0.000997        0.5        0.3\n",
            "                 car       1000       2375      0.856      0.509      0.701      0.446\n",
            "                 bus       1000        177      0.604      0.164      0.372      0.276\n",
            "             bollard       1000        979       0.67      0.324      0.496       0.25\n",
            "             bicycle       1000        307          0          0          0          0\n",
            "               bench       1000       1004          0          0          0          0\n",
            "Speed: 0.1ms pre-process, 3.2ms inference, 1.3ms NMS per image at shape (32, 3, 640, 640)\n",
            "Results saved to \u001b[1mruns/val/exp\u001b[0m\n"
          ]
        }
      ]
    },
    {
      "cell_type": "code",
      "metadata": {
        "id": "SNJf8ksTe38j",
        "colab": {
          "base_uri": "https://localhost:8080/"
        },
        "outputId": "9cb5d73b-cf49-44ce-d781-96cf7777d39c"
      },
      "source": [
        "run_val(16, test_folder=DATA_ROOT+\"test_over\")"
      ],
      "execution_count": null,
      "outputs": [
        {
          "output_type": "stream",
          "name": "stdout",
          "text": [
            "Set val to /content/drive/MyDrive/data/SW15/test_over\n",
            "\u001b[34m\u001b[1mval: \u001b[0mdata=/content/drive/MyDrive/data/SW15/validate.yaml, weights=['/content/drive/MyDrive/data/SW15/runs/train/train_16/weights/best.pt'], batch_size=32, imgsz=640, conf_thres=0.5, iou_thres=0.6, task=val, device=, single_cls=False, augment=False, verbose=False, save_txt=False, save_hybrid=False, save_conf=False, save_json=False, project=runs/val, name=exp, exist_ok=False, half=False, dnn=False\n",
            "WARNING: confidence threshold 0.5 >> 0.001 will produce invalid mAP values.\n",
            "YOLOv5 🚀 v6.0-114-ga4207a2 torch 1.10.0+cu111 CUDA:0 (Tesla P100-PCIE-16GB, 16281MiB)\n",
            "\n",
            "Fusing layers... \n",
            "Model Summary: 213 layers, 7088338 parameters, 0 gradients, 16.0 GFLOPs\n",
            "\u001b[34m\u001b[1mval: \u001b[0mScanning '/content/drive/MyDrive/data/SW15/test_over.cache' images and labels... 1000 found, 0 missing, 0 empty, 0 corrupted: 100% 1000/1000 [00:00<?, ?it/s]\n",
            "\u001b[34m\u001b[1mval: \u001b[0mWARNING: /content/drive/MyDrive/data/SW15/test_over/MP_SEL_018950.jpg: 1 duplicate labels removed\n",
            "               Class     Images     Labels          P          R     mAP@.5 mAP@.5:.95: 100% 32/32 [00:18<00:00,  1.69it/s]\n",
            "                 all       1000      13562      0.568      0.138      0.351      0.196\n",
            "               truck       1000        374          0          0          0          0\n",
            "          tree_trunk       1000       1977      0.802      0.203      0.501      0.231\n",
            "        traffic_sign       1000        453          1      0.011      0.506      0.314\n",
            "       traffic_light       1000        253      0.235     0.0158      0.123     0.0397\n",
            "        potted_plant       1000        352      0.577     0.0852      0.325      0.162\n",
            "                pole       1000       1036      0.781      0.103      0.439      0.213\n",
            "              person       1000       2243      0.878      0.376      0.639      0.359\n",
            "     movable_signage       1000        799      0.793      0.168      0.474      0.251\n",
            "          motorcycle       1000        230          0          0          0          0\n",
            "               chair       1000       1003      0.667    0.00199      0.336      0.185\n",
            "                 car       1000       2375      0.904      0.465      0.695      0.457\n",
            "                 bus       1000        177      0.573      0.243      0.381      0.259\n",
            "             bollard       1000        979      0.649      0.278      0.454      0.228\n",
            "             bicycle       1000        307      0.661      0.127      0.398      0.234\n",
            "               bench       1000       1004          0          0          0          0\n",
            "Speed: 0.2ms pre-process, 3.2ms inference, 1.2ms NMS per image at shape (32, 3, 640, 640)\n",
            "Results saved to \u001b[1mruns/val/exp\u001b[0m\n"
          ]
        }
      ]
    },
    {
      "cell_type": "code",
      "metadata": {
        "id": "7EeSQYene5CI",
        "colab": {
          "base_uri": "https://localhost:8080/"
        },
        "outputId": "bbfcf903-c654-43f6-93e5-a286510b9141"
      },
      "source": [
        "run_val(17, test_folder=DATA_ROOT+\"test_over\")"
      ],
      "execution_count": null,
      "outputs": [
        {
          "output_type": "stream",
          "name": "stdout",
          "text": [
            "Set val to /content/drive/MyDrive/data/SW15/test_over\n",
            "\u001b[34m\u001b[1mval: \u001b[0mdata=/content/drive/MyDrive/data/SW15/validate.yaml, weights=['/content/drive/MyDrive/data/SW15/runs/train/train_17/weights/best.pt'], batch_size=32, imgsz=640, conf_thres=0.5, iou_thres=0.6, task=val, device=, single_cls=False, augment=False, verbose=False, save_txt=False, save_hybrid=False, save_conf=False, save_json=False, project=runs/val, name=exp, exist_ok=False, half=False, dnn=False\n",
            "WARNING: confidence threshold 0.5 >> 0.001 will produce invalid mAP values.\n",
            "YOLOv5 🚀 v6.0-114-ga4207a2 torch 1.10.0+cu111 CUDA:0 (Tesla P100-PCIE-16GB, 16281MiB)\n",
            "\n",
            "Fusing layers... \n",
            "Model Summary: 213 layers, 7088338 parameters, 0 gradients, 16.0 GFLOPs\n",
            "\u001b[34m\u001b[1mval: \u001b[0mScanning '/content/drive/MyDrive/data/SW15/test_over.cache' images and labels... 1000 found, 0 missing, 0 empty, 0 corrupted: 100% 1000/1000 [00:00<?, ?it/s]\n",
            "\u001b[34m\u001b[1mval: \u001b[0mWARNING: /content/drive/MyDrive/data/SW15/test_over/MP_SEL_018950.jpg: 1 duplicate labels removed\n",
            "               Class     Images     Labels          P          R     mAP@.5 mAP@.5:.95: 100% 32/32 [00:19<00:00,  1.67it/s]\n",
            "                 all       1000      13562      0.552      0.173      0.361      0.203\n",
            "               truck       1000        374       0.54     0.0909      0.298      0.198\n",
            "          tree_trunk       1000       1977      0.709      0.279       0.49       0.22\n",
            "        traffic_sign       1000        453      0.455     0.0552      0.248      0.147\n",
            "       traffic_light       1000        253          1    0.00395      0.502      0.301\n",
            "        potted_plant       1000        352      0.469      0.128       0.29      0.141\n",
            "                pole       1000       1036      0.623      0.297      0.451      0.215\n",
            "              person       1000       2243      0.853      0.394      0.638      0.365\n",
            "     movable_signage       1000        799      0.746      0.232      0.494      0.276\n",
            "          motorcycle       1000        230          1     0.0304      0.515      0.315\n",
            "               chair       1000       1003          0          0          0          0\n",
            "                 car       1000       2375      0.796      0.537      0.693       0.45\n",
            "                 bus       1000        177          0          0          0          0\n",
            "             bollard       1000        979      0.627      0.255      0.426      0.221\n",
            "             bicycle       1000        307      0.458        0.3      0.374      0.192\n",
            "               bench       1000       1004          0          0          0          0\n",
            "Speed: 0.1ms pre-process, 3.2ms inference, 1.4ms NMS per image at shape (32, 3, 640, 640)\n",
            "Results saved to \u001b[1mruns/val/exp\u001b[0m\n"
          ]
        }
      ]
    },
    {
      "cell_type": "code",
      "metadata": {
        "id": "2wzll0Lce6Gu",
        "colab": {
          "base_uri": "https://localhost:8080/"
        },
        "outputId": "8358d981-fec7-43fd-b901-d125d6d99e10"
      },
      "source": [
        "run_val(18, test_folder=DATA_ROOT+\"test_over\")"
      ],
      "execution_count": null,
      "outputs": [
        {
          "output_type": "stream",
          "name": "stdout",
          "text": [
            "Set val to /content/drive/MyDrive/data/SW15/test_over\n",
            "\u001b[34m\u001b[1mval: \u001b[0mdata=/content/drive/MyDrive/data/SW15/validate.yaml, weights=['/content/drive/MyDrive/data/SW15/runs/train/train_18/weights/best.pt'], batch_size=32, imgsz=640, conf_thres=0.5, iou_thres=0.6, task=val, device=, single_cls=False, augment=False, verbose=False, save_txt=False, save_hybrid=False, save_conf=False, save_json=False, project=runs/val, name=exp, exist_ok=False, half=False, dnn=False\n",
            "WARNING: confidence threshold 0.5 >> 0.001 will produce invalid mAP values.\n",
            "YOLOv5 🚀 v6.0-114-ga4207a2 torch 1.10.0+cu111 CUDA:0 (Tesla P100-PCIE-16GB, 16281MiB)\n",
            "\n",
            "Fusing layers... \n",
            "Model Summary: 213 layers, 7088338 parameters, 0 gradients, 16.0 GFLOPs\n",
            "\u001b[34m\u001b[1mval: \u001b[0mScanning '/content/drive/MyDrive/data/SW15/test_over.cache' images and labels... 1000 found, 0 missing, 0 empty, 0 corrupted: 100% 1000/1000 [00:00<?, ?it/s]\n",
            "\u001b[34m\u001b[1mval: \u001b[0mWARNING: /content/drive/MyDrive/data/SW15/test_over/MP_SEL_018950.jpg: 1 duplicate labels removed\n",
            "               Class     Images     Labels          P          R     mAP@.5 mAP@.5:.95: 100% 32/32 [00:19<00:00,  1.68it/s]\n",
            "                 all       1000      13562      0.552      0.165      0.358      0.175\n",
            "               truck       1000        374      0.506       0.11      0.293      0.146\n",
            "          tree_trunk       1000       1977      0.755      0.206       0.47      0.204\n",
            "        traffic_sign       1000        453      0.576     0.0419      0.306      0.188\n",
            "       traffic_light       1000        253       0.75     0.0356      0.393       0.16\n",
            "        potted_plant       1000        352      0.597      0.105       0.34      0.137\n",
            "                pole       1000       1036      0.729      0.151      0.434      0.199\n",
            "              person       1000       2243      0.829      0.428      0.648      0.358\n",
            "     movable_signage       1000        799      0.714       0.15      0.432      0.213\n",
            "          motorcycle       1000        230      0.897      0.113       0.51      0.218\n",
            "               chair       1000       1003          0          0          0          0\n",
            "                 car       1000       2375        0.8      0.513      0.678      0.394\n",
            "                 bus       1000        177          0          0          0          0\n",
            "             bollard       1000        979      0.567      0.287      0.408      0.205\n",
            "             bicycle       1000        307      0.557      0.332      0.461      0.198\n",
            "               bench       1000       1004          0          0          0          0\n",
            "Speed: 0.4ms pre-process, 3.2ms inference, 1.3ms NMS per image at shape (32, 3, 640, 640)\n",
            "Results saved to \u001b[1mruns/val/exp\u001b[0m\n"
          ]
        }
      ]
    },
    {
      "cell_type": "code",
      "metadata": {
        "id": "yKgTKeuxe7R3",
        "colab": {
          "base_uri": "https://localhost:8080/"
        },
        "outputId": "c731e16b-294e-4541-a464-aef153521994"
      },
      "source": [
        "run_val(19, test_folder=DATA_ROOT+\"test_over\")"
      ],
      "execution_count": null,
      "outputs": [
        {
          "output_type": "stream",
          "name": "stdout",
          "text": [
            "Set val to /content/drive/MyDrive/data/SW15/test_over\n",
            "\u001b[34m\u001b[1mval: \u001b[0mdata=/content/drive/MyDrive/data/SW15/validate.yaml, weights=['/content/drive/MyDrive/data/SW15/runs/train/train_19/weights/best.pt'], batch_size=32, imgsz=640, conf_thres=0.5, iou_thres=0.6, task=val, device=, single_cls=False, augment=False, verbose=False, save_txt=False, save_hybrid=False, save_conf=False, save_json=False, project=runs/val, name=exp, exist_ok=False, half=False, dnn=False\n",
            "WARNING: confidence threshold 0.5 >> 0.001 will produce invalid mAP values.\n",
            "YOLOv5 🚀 v6.0-114-ga4207a2 torch 1.10.0+cu111 CUDA:0 (Tesla P100-PCIE-16GB, 16281MiB)\n",
            "\n",
            "Fusing layers... \n",
            "Model Summary: 213 layers, 7088338 parameters, 0 gradients, 16.0 GFLOPs\n",
            "\u001b[34m\u001b[1mval: \u001b[0mScanning '/content/drive/MyDrive/data/SW15/test_over.cache' images and labels... 1000 found, 0 missing, 0 empty, 0 corrupted: 100% 1000/1000 [00:00<?, ?it/s]\n",
            "\u001b[34m\u001b[1mval: \u001b[0mWARNING: /content/drive/MyDrive/data/SW15/test_over/MP_SEL_018950.jpg: 1 duplicate labels removed\n",
            "               Class     Images     Labels          P          R     mAP@.5 mAP@.5:.95: 100% 32/32 [00:19<00:00,  1.66it/s]\n",
            "                 all       1000      13562      0.571      0.174      0.373      0.202\n",
            "               truck       1000        374       0.47      0.104      0.269      0.179\n",
            "          tree_trunk       1000       1977      0.763      0.239      0.496      0.247\n",
            "        traffic_sign       1000        453      0.667       0.11      0.384      0.233\n",
            "       traffic_light       1000        253      0.667     0.0158      0.341       0.12\n",
            "        potted_plant       1000        352      0.484      0.131      0.298      0.132\n",
            "                pole       1000       1036      0.812      0.113       0.46      0.222\n",
            "              person       1000       2243      0.842      0.448      0.664       0.38\n",
            "     movable_signage       1000        799      0.729      0.219      0.482       0.28\n",
            "          motorcycle       1000        230          1     0.0826      0.541      0.276\n",
            "               chair       1000       1003          0          0          0          0\n",
            "                 car       1000       2375      0.829      0.535      0.702      0.457\n",
            "                 bus       1000        177          0          0          0          0\n",
            "             bollard       1000        979      0.582       0.32      0.438      0.224\n",
            "             bicycle       1000        307      0.722      0.296      0.519      0.281\n",
            "               bench       1000       1004          0          0          0          0\n",
            "Speed: 0.1ms pre-process, 3.3ms inference, 1.3ms NMS per image at shape (32, 3, 640, 640)\n",
            "Results saved to \u001b[1mruns/val/exp\u001b[0m\n"
          ]
        }
      ]
    },
    {
      "cell_type": "code",
      "metadata": {
        "id": "r6dJBs18e8p0",
        "colab": {
          "base_uri": "https://localhost:8080/"
        },
        "outputId": "845808ca-88a9-4e52-b5f9-38f680e4b447"
      },
      "source": [
        "run_val(20, test_folder=DATA_ROOT+\"test_over\")"
      ],
      "execution_count": null,
      "outputs": [
        {
          "output_type": "stream",
          "name": "stdout",
          "text": [
            "Set val to /content/drive/MyDrive/data/SW15/test_over\n",
            "\u001b[34m\u001b[1mval: \u001b[0mdata=/content/drive/MyDrive/data/SW15/validate.yaml, weights=['/content/drive/MyDrive/data/SW15/runs/train/train_20/weights/best.pt'], batch_size=32, imgsz=640, conf_thres=0.5, iou_thres=0.6, task=val, device=, single_cls=False, augment=False, verbose=False, save_txt=False, save_hybrid=False, save_conf=False, save_json=False, project=runs/val, name=exp, exist_ok=False, half=False, dnn=False\n",
            "WARNING: confidence threshold 0.5 >> 0.001 will produce invalid mAP values.\n",
            "YOLOv5 🚀 v6.0-114-ga4207a2 torch 1.10.0+cu111 CUDA:0 (Tesla P100-PCIE-16GB, 16281MiB)\n",
            "\n",
            "Fusing layers... \n",
            "Model Summary: 213 layers, 7088338 parameters, 0 gradients, 16.0 GFLOPs\n",
            "\u001b[34m\u001b[1mval: \u001b[0mScanning '/content/drive/MyDrive/data/SW15/test_over.cache' images and labels... 1000 found, 0 missing, 0 empty, 0 corrupted: 100% 1000/1000 [00:00<?, ?it/s]\n",
            "\u001b[34m\u001b[1mval: \u001b[0mWARNING: /content/drive/MyDrive/data/SW15/test_over/MP_SEL_018950.jpg: 1 duplicate labels removed\n",
            "               Class     Images     Labels          P          R     mAP@.5 mAP@.5:.95: 100% 32/32 [00:19<00:00,  1.67it/s]\n",
            "                 all       1000      13562       0.51      0.193      0.352      0.187\n",
            "               truck       1000        374        0.5      0.126      0.304      0.213\n",
            "          tree_trunk       1000       1977       0.69      0.329      0.507      0.222\n",
            "        traffic_sign       1000        453      0.679     0.0795      0.376      0.237\n",
            "       traffic_light       1000        253      0.333    0.00791      0.169     0.0843\n",
            "        potted_plant       1000        352      0.525      0.148      0.328      0.147\n",
            "                pole       1000       1036      0.704      0.235      0.469      0.222\n",
            "              person       1000       2243      0.831      0.418      0.642      0.357\n",
            "     movable_signage       1000        799      0.591      0.183      0.387      0.209\n",
            "          motorcycle       1000        230      0.896      0.187      0.548       0.29\n",
            "               chair       1000       1003          0          0          0          0\n",
            "                 car       1000       2375        0.8      0.564      0.709      0.441\n",
            "                 bus       1000        177          0          0          0          0\n",
            "             bollard       1000        979      0.511      0.278      0.375      0.172\n",
            "             bicycle       1000        307      0.582      0.345      0.472       0.21\n",
            "               bench       1000       1004          0          0          0          0\n",
            "Speed: 0.1ms pre-process, 3.1ms inference, 1.4ms NMS per image at shape (32, 3, 640, 640)\n",
            "Results saved to \u001b[1mruns/val/exp\u001b[0m\n"
          ]
        }
      ]
    },
    {
      "cell_type": "code",
      "metadata": {
        "id": "WKy4tQA0e-jz",
        "colab": {
          "base_uri": "https://localhost:8080/"
        },
        "outputId": "1b49887c-19bd-4f08-e541-bb19cd05a298"
      },
      "source": [
        "run_val(21, test_folder=DATA_ROOT+\"test_over\")"
      ],
      "execution_count": null,
      "outputs": [
        {
          "output_type": "stream",
          "name": "stdout",
          "text": [
            "Set val to /content/drive/MyDrive/data/SW15/test_over\n",
            "\u001b[34m\u001b[1mval: \u001b[0mdata=/content/drive/MyDrive/data/SW15/validate.yaml, weights=['/content/drive/MyDrive/data/SW15/runs/train/train_21/weights/best.pt'], batch_size=32, imgsz=640, conf_thres=0.5, iou_thres=0.6, task=val, device=, single_cls=False, augment=False, verbose=False, save_txt=False, save_hybrid=False, save_conf=False, save_json=False, project=runs/val, name=exp, exist_ok=False, half=False, dnn=False\n",
            "WARNING: confidence threshold 0.5 >> 0.001 will produce invalid mAP values.\n",
            "YOLOv5 🚀 v6.0-114-ga4207a2 torch 1.10.0+cu111 CUDA:0 (Tesla P100-PCIE-16GB, 16281MiB)\n",
            "\n",
            "Fusing layers... \n",
            "Model Summary: 213 layers, 7088338 parameters, 0 gradients, 16.0 GFLOPs\n",
            "\u001b[34m\u001b[1mval: \u001b[0mScanning '/content/drive/MyDrive/data/SW15/test_over.cache' images and labels... 1000 found, 0 missing, 0 empty, 0 corrupted: 100% 1000/1000 [00:00<?, ?it/s]\n",
            "\u001b[34m\u001b[1mval: \u001b[0mWARNING: /content/drive/MyDrive/data/SW15/test_over/MP_SEL_018950.jpg: 1 duplicate labels removed\n",
            "               Class     Images     Labels          P          R     mAP@.5 mAP@.5:.95: 100% 32/32 [00:19<00:00,  1.68it/s]\n",
            "                 all       1000      13562      0.535      0.176      0.355      0.199\n",
            "               truck       1000        374      0.543      0.184      0.344      0.233\n",
            "          tree_trunk       1000       1977      0.739      0.263      0.494      0.221\n",
            "        traffic_sign       1000        453      0.724     0.0464      0.385      0.258\n",
            "       traffic_light       1000        253          0          0          0          0\n",
            "        potted_plant       1000        352      0.693      0.148      0.413      0.184\n",
            "                pole       1000       1036      0.761      0.148      0.449      0.223\n",
            "              person       1000       2243       0.84      0.407      0.645      0.361\n",
            "     movable_signage       1000        799      0.763      0.202      0.484      0.274\n",
            "          motorcycle       1000        230      0.716      0.296      0.511      0.283\n",
            "               chair       1000       1003          0          0          0          0\n",
            "                 car       1000       2375      0.875      0.513      0.709      0.474\n",
            "                 bus       1000        177          0          0          0          0\n",
            "             bollard       1000        979       0.53      0.348      0.426      0.211\n",
            "             bicycle       1000        307      0.833     0.0814      0.461      0.261\n",
            "               bench       1000       1004          0          0          0          0\n",
            "Speed: 0.1ms pre-process, 3.3ms inference, 1.3ms NMS per image at shape (32, 3, 640, 640)\n",
            "Results saved to \u001b[1mruns/val/exp\u001b[0m\n"
          ]
        }
      ]
    },
    {
      "cell_type": "code",
      "metadata": {
        "id": "F9kVh0rNe__0",
        "colab": {
          "base_uri": "https://localhost:8080/"
        },
        "outputId": "7143e31f-3186-467b-e56e-2ae31097b334"
      },
      "source": [
        "run_val(22, test_folder=DATA_ROOT+\"test_over\")"
      ],
      "execution_count": null,
      "outputs": [
        {
          "output_type": "stream",
          "name": "stdout",
          "text": [
            "Set val to /content/drive/MyDrive/data/SW15/test_over\n",
            "\u001b[34m\u001b[1mval: \u001b[0mdata=/content/drive/MyDrive/data/SW15/validate.yaml, weights=['/content/drive/MyDrive/data/SW15/runs/train/train_22/weights/best.pt'], batch_size=32, imgsz=640, conf_thres=0.5, iou_thres=0.6, task=val, device=, single_cls=False, augment=False, verbose=False, save_txt=False, save_hybrid=False, save_conf=False, save_json=False, project=runs/val, name=exp, exist_ok=False, half=False, dnn=False\n",
            "WARNING: confidence threshold 0.5 >> 0.001 will produce invalid mAP values.\n",
            "YOLOv5 🚀 v6.0-114-ga4207a2 torch 1.10.0+cu111 CUDA:0 (Tesla P100-PCIE-16GB, 16281MiB)\n",
            "\n",
            "Fusing layers... \n",
            "Model Summary: 213 layers, 7088338 parameters, 0 gradients, 16.0 GFLOPs\n",
            "\u001b[34m\u001b[1mval: \u001b[0mScanning '/content/drive/MyDrive/data/SW15/test_over.cache' images and labels... 1000 found, 0 missing, 0 empty, 0 corrupted: 100% 1000/1000 [00:00<?, ?it/s]\n",
            "\u001b[34m\u001b[1mval: \u001b[0mWARNING: /content/drive/MyDrive/data/SW15/test_over/MP_SEL_018950.jpg: 1 duplicate labels removed\n",
            "               Class     Images     Labels          P          R     mAP@.5 mAP@.5:.95: 100% 32/32 [00:19<00:00,  1.66it/s]\n",
            "                 all       1000      13562      0.576       0.18      0.377      0.206\n",
            "               truck       1000        374      0.569      0.187      0.352      0.222\n",
            "          tree_trunk       1000       1977      0.758      0.257      0.505      0.231\n",
            "        traffic_sign       1000        453       0.66     0.0684      0.359      0.231\n",
            "       traffic_light       1000        253       0.75     0.0119      0.381      0.165\n",
            "        potted_plant       1000        352      0.558      0.151       0.35      0.162\n",
            "                pole       1000       1036      0.868     0.0888      0.475      0.243\n",
            "              person       1000       2243      0.852      0.432       0.66      0.383\n",
            "     movable_signage       1000        799      0.689      0.267      0.483      0.268\n",
            "          motorcycle       1000        230      0.622      0.387       0.51      0.257\n",
            "               chair       1000       1003          0          0          0          0\n",
            "                 car       1000       2375      0.827      0.516      0.687      0.434\n",
            "                 bus       1000        177          0          0          0          0\n",
            "             bollard       1000        979      0.646      0.319      0.473      0.238\n",
            "             bicycle       1000        307      0.833     0.0163      0.426      0.255\n",
            "               bench       1000       1004          0          0          0          0\n",
            "Speed: 0.1ms pre-process, 3.2ms inference, 1.1ms NMS per image at shape (32, 3, 640, 640)\n",
            "Results saved to \u001b[1mruns/val/exp\u001b[0m\n"
          ]
        }
      ]
    },
    {
      "cell_type": "code",
      "metadata": {
        "id": "NufeTOPFfBWh",
        "colab": {
          "base_uri": "https://localhost:8080/"
        },
        "outputId": "88522135-d7f1-4992-fcaf-954c4cddbc59"
      },
      "source": [
        "run_val(23, test_folder=DATA_ROOT+\"test_over\")"
      ],
      "execution_count": null,
      "outputs": [
        {
          "output_type": "stream",
          "name": "stdout",
          "text": [
            "Set val to /content/drive/MyDrive/data/SW15/test_over\n",
            "\u001b[34m\u001b[1mval: \u001b[0mdata=/content/drive/MyDrive/data/SW15/validate.yaml, weights=['/content/drive/MyDrive/data/SW15/runs/train/train_23/weights/best.pt'], batch_size=32, imgsz=640, conf_thres=0.5, iou_thres=0.6, task=val, device=, single_cls=False, augment=False, verbose=False, save_txt=False, save_hybrid=False, save_conf=False, save_json=False, project=runs/val, name=exp, exist_ok=False, half=False, dnn=False\n",
            "WARNING: confidence threshold 0.5 >> 0.001 will produce invalid mAP values.\n",
            "YOLOv5 🚀 v6.0-114-ga4207a2 torch 1.10.0+cu111 CUDA:0 (Tesla P100-PCIE-16GB, 16281MiB)\n",
            "\n",
            "Fusing layers... \n",
            "Model Summary: 213 layers, 7088338 parameters, 0 gradients, 16.0 GFLOPs\n",
            "\u001b[34m\u001b[1mval: \u001b[0mScanning '/content/drive/MyDrive/data/SW15/test_over.cache' images and labels... 1000 found, 0 missing, 0 empty, 0 corrupted: 100% 1000/1000 [00:00<?, ?it/s]\n",
            "\u001b[34m\u001b[1mval: \u001b[0mWARNING: /content/drive/MyDrive/data/SW15/test_over/MP_SEL_018950.jpg: 1 duplicate labels removed\n",
            "               Class     Images     Labels          P          R     mAP@.5 mAP@.5:.95: 100% 32/32 [00:19<00:00,  1.66it/s]\n",
            "                 all       1000      13562      0.606      0.174       0.39      0.223\n",
            "               truck       1000        374      0.561      0.198      0.351      0.214\n",
            "          tree_trunk       1000       1977      0.779      0.242      0.511      0.247\n",
            "        traffic_sign       1000        453      0.703     0.0574      0.379      0.263\n",
            "       traffic_light       1000        253       0.75     0.0119      0.381      0.166\n",
            "        potted_plant       1000        352      0.662      0.128      0.388      0.183\n",
            "                pole       1000       1036      0.869     0.0705       0.47      0.256\n",
            "              person       1000       2243      0.851      0.448      0.666      0.391\n",
            "     movable_signage       1000        799      0.733      0.213      0.474      0.277\n",
            "          motorcycle       1000        230      0.664      0.361      0.507      0.269\n",
            "               chair       1000       1003          0          0          0          0\n",
            "                 car       1000       2375      0.864       0.54      0.718      0.465\n",
            "                 bus       1000        177          0          0          0          0\n",
            "             bollard       1000        979      0.659      0.338      0.501      0.263\n",
            "             bicycle       1000        307          1    0.00651      0.503      0.353\n",
            "               bench       1000       1004          0          0          0          0\n",
            "Speed: 0.1ms pre-process, 3.2ms inference, 1.2ms NMS per image at shape (32, 3, 640, 640)\n",
            "Results saved to \u001b[1mruns/val/exp\u001b[0m\n"
          ]
        }
      ]
    },
    {
      "cell_type": "code",
      "metadata": {
        "id": "GE9zPi6GfCtJ",
        "colab": {
          "base_uri": "https://localhost:8080/"
        },
        "outputId": "da69275a-37a7-4dec-d1bd-69fb077aba0c"
      },
      "source": [
        "run_val(24, test_folder=DATA_ROOT+\"test_over\")"
      ],
      "execution_count": null,
      "outputs": [
        {
          "output_type": "stream",
          "name": "stdout",
          "text": [
            "Set val to /content/drive/MyDrive/data/SW15/test_over\n",
            "\u001b[34m\u001b[1mval: \u001b[0mdata=/content/drive/MyDrive/data/SW15/validate.yaml, weights=['/content/drive/MyDrive/data/SW15/runs/train/train_24/weights/best.pt'], batch_size=32, imgsz=640, conf_thres=0.5, iou_thres=0.6, task=val, device=, single_cls=False, augment=False, verbose=False, save_txt=False, save_hybrid=False, save_conf=False, save_json=False, project=runs/val, name=exp, exist_ok=False, half=False, dnn=False\n",
            "WARNING: confidence threshold 0.5 >> 0.001 will produce invalid mAP values.\n",
            "YOLOv5 🚀 v6.0-114-ga4207a2 torch 1.10.0+cu111 CUDA:0 (Tesla P100-PCIE-16GB, 16281MiB)\n",
            "\n",
            "Fusing layers... \n",
            "Model Summary: 213 layers, 7088338 parameters, 0 gradients, 16.0 GFLOPs\n",
            "\u001b[34m\u001b[1mval: \u001b[0mScanning '/content/drive/MyDrive/data/SW15/test_over.cache' images and labels... 1000 found, 0 missing, 0 empty, 0 corrupted: 100% 1000/1000 [00:00<?, ?it/s]\n",
            "\u001b[34m\u001b[1mval: \u001b[0mWARNING: /content/drive/MyDrive/data/SW15/test_over/MP_SEL_018950.jpg: 1 duplicate labels removed\n",
            "               Class     Images     Labels          P          R     mAP@.5 mAP@.5:.95: 100% 32/32 [00:19<00:00,  1.67it/s]\n",
            "                 all       1000      13562      0.592      0.175      0.384      0.228\n",
            "               truck       1000        374      0.596      0.158      0.361      0.247\n",
            "          tree_trunk       1000       1977      0.809      0.225      0.516      0.259\n",
            "        traffic_sign       1000        453       0.76     0.0419        0.4      0.243\n",
            "       traffic_light       1000        253        0.6     0.0119      0.307      0.154\n",
            "        potted_plant       1000        352      0.532      0.168      0.343      0.156\n",
            "                pole       1000       1036      0.771      0.207      0.487      0.235\n",
            "              person       1000       2243      0.867      0.413      0.654      0.394\n",
            "     movable_signage       1000        799      0.747      0.222      0.488      0.299\n",
            "          motorcycle       1000        230      0.699      0.343      0.525      0.298\n",
            "               chair       1000       1003          0          0          0          0\n",
            "                 car       1000       2375      0.888      0.498      0.705      0.501\n",
            "                 bus       1000        177          0          0          0          0\n",
            "             bollard       1000        979       0.61      0.327      0.462       0.25\n",
            "             bicycle       1000        307          1    0.00977      0.505      0.387\n",
            "               bench       1000       1004          0          0          0          0\n",
            "Speed: 0.2ms pre-process, 3.2ms inference, 1.3ms NMS per image at shape (32, 3, 640, 640)\n",
            "Results saved to \u001b[1mruns/val/exp\u001b[0m\n"
          ]
        }
      ]
    },
    {
      "cell_type": "code",
      "metadata": {
        "id": "g37_ogtmfD6j"
      },
      "source": [
        ""
      ],
      "execution_count": null,
      "outputs": []
    }
  ]
}